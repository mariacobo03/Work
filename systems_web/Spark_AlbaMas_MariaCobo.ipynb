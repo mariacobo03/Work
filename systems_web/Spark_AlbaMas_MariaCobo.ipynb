{
 "cells": [
  {
   "cell_type": "markdown",
   "id": "39355b56",
   "metadata": {},
   "source": [
    "# Apache Spark deliberable tasks\n",
    "\n",
    "#### Group: Alba Mas and Maria Cobo"
   ]
  },
  {
   "cell_type": "markdown",
   "id": "7730a492",
   "metadata": {},
   "source": [
    "Use microarray expression experiment dataset file “expression.csv”, with the following elements:\n",
    "\n",
    "0. genBank Id\n",
    "1. targetId\n",
    "2. Species\n",
    "3. experiment number\n",
    "4. expression level\n",
    "\n",
    "Please answer the following questions in your report/notebook providing:\n",
    "\n",
    "- A short explanation of the Spark operations used.\n",
    "- The source code of the query.\n",
    "- All the results obtained."
   ]
  },
  {
   "cell_type": "code",
   "execution_count": 1,
   "id": "97e37cc2",
   "metadata": {},
   "outputs": [],
   "source": [
    "#!pip install pyspark"
   ]
  },
  {
   "cell_type": "code",
   "execution_count": 2,
   "id": "4923ee8b",
   "metadata": {},
   "outputs": [],
   "source": [
    "# Setting up the environment\n",
    "from pyspark.sql import SparkSession\n",
    "from pyspark.sql.functions import countDistinct\n",
    "from pyspark.sql.functions import min\n",
    "from pyspark.sql.functions import col\n",
    "import os\n",
    "\n",
    "working_dir = os.getcwd()\n",
    "#print(working_dir)\n",
    "\n",
    "expression_path = working_dir + \"/Delivery_datasets/expression-2023.csv\"\n",
    "gene_desc_path = working_dir + \"/Delivery_datasets/geneDescriptions.csv\""
   ]
  },
  {
   "cell_type": "code",
   "execution_count": 3,
   "id": "bf5862ae",
   "metadata": {
    "scrolled": true
   },
   "outputs": [
    {
     "name": "stderr",
     "output_type": "stream",
     "text": [
      "24/12/02 17:25:34 WARN Utils: Your hostname, maria resolves to a loopback address: 127.0.1.1; using 192.168.68.117 instead (on interface wlp1s0)\n",
      "24/12/02 17:25:34 WARN Utils: Set SPARK_LOCAL_IP if you need to bind to another address\n",
      "Setting default log level to \"WARN\".\n",
      "To adjust logging level use sc.setLogLevel(newLevel). For SparkR, use setLogLevel(newLevel).\n",
      "24/12/02 17:25:34 WARN NativeCodeLoader: Unable to load native-hadoop library for your platform... using builtin-java classes where applicable\n",
      "24/12/02 17:25:35 WARN Utils: Service 'SparkUI' could not bind on port 4040. Attempting port 4041.\n"
     ]
    }
   ],
   "source": [
    "from pyspark.sql import SparkSession\n",
    "\n",
    "# Initialize SparkSession\n",
    "spark = SparkSession.builder.master(\"local[*]\").appName(\"MicroarrayAnalysis\").getOrCreate()\n",
    "\n",
    "# Define file paths\n",
    "working_dir = os.getcwd()\n",
    "expression_path = working_dir + \"/Delivery_datasets/expression-2023.csv\"\n",
    "\n",
    "# Property used to format output tables better\n",
    "spark.conf.set(\"spark.sql.repl.eagerEval.enabled\", True)\n",
    "# spark"
   ]
  },
  {
   "cell_type": "code",
   "execution_count": 4,
   "id": "655d223c",
   "metadata": {},
   "outputs": [],
   "source": [
    "# Initialize SparkSession\n",
    "spark = SparkSession.builder.master(\"local[*]\").appName(\"MicroarrayAnalysis\").getOrCreate()\n",
    "\n",
    "# Define file paths\n",
    "working_dir = os.getcwd()\n",
    "expression_path = working_dir + \"/Delivery_datasets/expression-2023.csv\"\n",
    "\n",
    "# Load the dataset\n",
    "expression_df = spark.read.csv(expression_path, header=True, inferSchema=True)"
   ]
  },
  {
   "cell_type": "markdown",
   "id": "805a2825",
   "metadata": {},
   "source": [
    "#### EXERCICES:\n",
    "\n",
    "You should use Spark DataFrames Python API to propose solutions to the questions:\n",
    "\n",
    "**1. Get a list of all targets where species is Mus Musculus ('Mm') (1 point)**"
   ]
  },
  {
   "cell_type": "code",
   "execution_count": 5,
   "id": "db257588",
   "metadata": {
    "scrolled": true
   },
   "outputs": [
    {
     "name": "stdout",
     "output_type": "stream",
     "text": [
      "+------------+\n",
      "|    targetId|\n",
      "+------------+\n",
      "|     1235_at|\n",
      "|U95_32123_at|\n",
      "|     1234_at|\n",
      "|     1231_at|\n",
      "+------------+\n",
      "\n"
     ]
    }
   ],
   "source": [
    "# Filter targets where species is 'Mm'\n",
    "mus_musculus_targets = expression_df.filter(col(\"SPECIES\") == \"Mm\").select(\"targetId\").distinct()\n",
    "\n",
    "# Show the results\n",
    "mus_musculus_targets.show()"
   ]
  },
  {
   "cell_type": "markdown",
   "id": "62695b58",
   "metadata": {},
   "source": [
    "**Results**: "
   ]
  },
  {
   "cell_type": "markdown",
   "id": "89e41698",
   "metadata": {},
   "source": [
    "**2. Get all information on specific genBank Id \"A00142\" (1 p)**"
   ]
  },
  {
   "cell_type": "code",
   "execution_count": 6,
   "id": "4f059d89",
   "metadata": {
    "scrolled": true
   },
   "outputs": [
    {
     "name": "stdout",
     "output_type": "stream",
     "text": [
      "+---------+--------+-------+----------+----------+\n",
      "|GENBANKID|TARGETID|SPECIES|EXPERIMENT|EXPRESSION|\n",
      "+---------+--------+-------+----------+----------+\n",
      "|   A00142|31325_at|     Hs|         1|       191|\n",
      "|   A00142|31325_at|     Hs|         2|       101|\n",
      "|   A00142|31325_at|     Hs|         4|        51|\n",
      "|   A00142|31325_at|     Hs|         5|        71|\n",
      "|   A00142|31325_at|     Hs|         6|        31|\n",
      "+---------+--------+-------+----------+----------+\n",
      "\n"
     ]
    }
   ],
   "source": [
    "# Filter rows where genBank Id is \"A00142\"\n",
    "genbank_info = expression_df.filter(col(\"GENBANKID\") == \"A00142\")\n",
    "\n",
    "# Show all information for the specific genBank Id\n",
    "genbank_info.show()"
   ]
  },
  {
   "cell_type": "markdown",
   "id": "63385226",
   "metadata": {},
   "source": [
    "**Results**: "
   ]
  },
  {
   "cell_type": "markdown",
   "id": "b32eb77a",
   "metadata": {},
   "source": [
    "**3. Get the list of unique genBank Ids from the experiment data (1 p)**"
   ]
  },
  {
   "cell_type": "code",
   "execution_count": 7,
   "id": "6cd54436",
   "metadata": {
    "scrolled": false
   },
   "outputs": [
    {
     "name": "stdout",
     "output_type": "stream",
     "text": [
      "+---------+\n",
      "|GENBANKID|\n",
      "+---------+\n",
      "|   X70393|\n",
      "|   L02870|\n",
      "|   A12346|\n",
      "|   A00142|\n",
      "|   S75295|\n",
      "|   A12348|\n",
      "|   A12027|\n",
      "|   A12349|\n",
      "|   A22127|\n",
      "|   A06977|\n",
      "|   A12345|\n",
      "|   M18228|\n",
      "|   A00146|\n",
      "| AI846313|\n",
      "|   A12347|\n",
      "|   A03911|\n",
      "|   A22125|\n",
      "|   A22124|\n",
      "|   A22126|\n",
      "|   A22123|\n",
      "+---------+\n",
      "\n"
     ]
    }
   ],
   "source": [
    "# Get the list of unique genBank Ids\n",
    "unique_genbank_ids = expression_df.select(\"GENBANKID\").distinct()\n",
    "\n",
    "# Show the results\n",
    "unique_genbank_ids.show()"
   ]
  },
  {
   "cell_type": "markdown",
   "id": "92f509ed",
   "metadata": {},
   "source": [
    "**Results**: "
   ]
  },
  {
   "cell_type": "markdown",
   "id": "b6ccb3c0",
   "metadata": {},
   "source": [
    "**4. Get all information on those samples with expression value between, but not equal to, 80 and 100. If you include 80 and 100 in your comparison, do you see any change in the results obtained? (1 p)**"
   ]
  },
  {
   "cell_type": "code",
   "execution_count": 8,
   "id": "08d1d3e0",
   "metadata": {},
   "outputs": [
    {
     "name": "stdout",
     "output_type": "stream",
     "text": [
      "Results for expression level between 80 and 100 (exclusive):\n",
      "+---------+------------+-------+----------+----------+\n",
      "|GENBANKID|    TARGETID|SPECIES|EXPERIMENT|EXPRESSION|\n",
      "+---------+------------+-------+----------+----------+\n",
      "|   M18228|     1235_at|     Mm|         1|        90|\n",
      "|   A00146|    31324_at|     Hs|         3|        91|\n",
      "|   A03911|    31356_at|     Hs|         3|        99|\n",
      "|   A12347|     3159_at|     Hs|         3|        86|\n",
      "|   S75295|U95_40474_at|     Hs|         1|        99|\n",
      "+---------+------------+-------+----------+----------+\n",
      "\n",
      "Results for expression level between 80 and 100 (inclusive):\n",
      "+---------+------------+-------+----------+----------+\n",
      "|GENBANKID|    TARGETID|SPECIES|EXPERIMENT|EXPRESSION|\n",
      "+---------+------------+-------+----------+----------+\n",
      "|   M18228|     1235_at|     Mm|         1|        90|\n",
      "|   A00146|    31324_at|     Hs|         3|        91|\n",
      "|   A03911|    31356_at|     Hs|         3|        99|\n",
      "|   A12027|     3156_at|     Hs|         2|       100|\n",
      "|   A12347|     3159_at|     Hs|         3|        86|\n",
      "|   S75295|U95_40474_at|     Hs|         1|        99|\n",
      "+---------+------------+-------+----------+----------+\n",
      "\n"
     ]
    }
   ],
   "source": [
    "# Filter for expression value between 80 and 100 (exclusive)\n",
    "exclusive_filter = expression_df.filter((col(\"EXPRESSION\") > 80) & (col(\"EXPRESSION\") < 100))\n",
    "\n",
    "# Filter for expression value between 80 and 100 (inclusive)\n",
    "inclusive_filter = expression_df.filter((col(\"EXPRESSION\") >= 80) & (col(\"EXPRESSION\") <= 100))\n",
    "\n",
    "# Show results for exclusive filter\n",
    "print(\"Results for expression level between 80 and 100 (exclusive):\")\n",
    "exclusive_filter.show()\n",
    "\n",
    "# Show results for inclusive filter\n",
    "print(\"Results for expression level between 80 and 100 (inclusive):\")\n",
    "inclusive_filter.show()"
   ]
  },
  {
   "cell_type": "markdown",
   "id": "a8f6a648",
   "metadata": {},
   "source": [
    "**Results**: "
   ]
  },
  {
   "cell_type": "markdown",
   "id": "2a98b0c2",
   "metadata": {},
   "source": [
    "**5. Count the number of experiments where each genBank id has a sample. Each line from the answer must contain a gene id and a specific number of experiments. If gene A is found twice in experiment number 1, it should be counted only once (1 p)**"
   ]
  },
  {
   "cell_type": "code",
   "execution_count": 9,
   "id": "01a1b2c3",
   "metadata": {},
   "outputs": [
    {
     "name": "stdout",
     "output_type": "stream",
     "text": [
      "+---------+-----+\n",
      "|GENBANKID|count|\n",
      "+---------+-----+\n",
      "|   X70393|    1|\n",
      "|   L02870|    1|\n",
      "|   A12346|    1|\n",
      "|   A00142|    5|\n",
      "|   S75295|    1|\n",
      "|   A12348|    1|\n",
      "|   A12349|    1|\n",
      "|   A12027|    1|\n",
      "|   A22127|    1|\n",
      "|   A06977|    1|\n",
      "|   A12345|    1|\n",
      "|   M18228|    1|\n",
      "|   A00146|    1|\n",
      "| AI846313|    1|\n",
      "|   A12347|    1|\n",
      "|   A03911|    1|\n",
      "|   A22125|    1|\n",
      "|   A22124|    1|\n",
      "|   A22126|    1|\n",
      "|   A22123|    1|\n",
      "+---------+-----+\n",
      "\n"
     ]
    }
   ],
   "source": [
    "# Group by genBank Id and count unique experiments\n",
    "experiment_count = (\n",
    "    expression_df.select(\"GENBANKID\", \"EXPERIMENT\")\n",
    "    .distinct()  # Ensure no duplicates for the same genBank Id and experiment\n",
    "    .groupBy(\"GENBANKID\")  # Group by genBank Id\n",
    "    .count()  # Count unique experiments per genBank Id\n",
    "    .alias(\"EXPERIMENT_COUNT\")  # Rename the count column\n",
    ")\n",
    "\n",
    "# Show the results\n",
    "experiment_count.show()"
   ]
  },
  {
   "cell_type": "markdown",
   "id": "db38aed9",
   "metadata": {},
   "source": [
    "**Results**: "
   ]
  },
  {
   "cell_type": "markdown",
   "id": "74b58b81",
   "metadata": {},
   "source": [
    "**6. Get all experiment Ids from the dataset together with its minimum expression level. Sort the list by expression level. Please provide all results obtained in your answer (1 p)**"
   ]
  },
  {
   "cell_type": "code",
   "execution_count": 10,
   "id": "362d2249",
   "metadata": {},
   "outputs": [
    {
     "name": "stdout",
     "output_type": "stream",
     "text": [
      "+----------+--------------------+\n",
      "|EXPERIMENT|MIN EXPRESSION LEVEL|\n",
      "+----------+--------------------+\n",
      "|         1|                   0|\n",
      "|         3|                   0|\n",
      "|         2|                   0|\n",
      "|         6|                  31|\n",
      "|         4|                  51|\n",
      "|         5|                  71|\n",
      "+----------+--------------------+\n",
      "\n"
     ]
    }
   ],
   "source": [
    "# Group by experiment number and calculate the minimum expression level\n",
    "experiment_min_expr = (\n",
    "    expression_df.groupBy(\"EXPERIMENT\")\n",
    "    .agg(min(\"EXPRESSION\").alias(\"MIN EXPRESSION LEVEL\"))\n",
    "    .orderBy(\"MIN EXPRESSION LEVEL\")  # Sort by minimum expression level\n",
    ")\n",
    "\n",
    "# Show the results\n",
    "experiment_min_expr.show()"
   ]
  },
  {
   "cell_type": "markdown",
   "id": "62695b58",
   "metadata": {},
   "source": [
    "**Results**: "
   ]
  },
  {
   "cell_type": "markdown",
   "id": "28b081ff",
   "metadata": {},
   "source": [
    "**7. Get all expression levels from albumin genes. You must use additional geneDescriptions.csv dataset file with columns \"gene_id\" and \"description\" to design a join operation. Show genes, expression levels and descriptions in your final result. Please provide all results obtained in your answer (1 p)**"
   ]
  },
  {
   "cell_type": "code",
   "execution_count": 11,
   "id": "147be721",
   "metadata": {
    "scrolled": true
   },
   "outputs": [
    {
     "name": "stdout",
     "output_type": "stream",
     "text": [
      "+-------+----------+-----------+\n",
      "|GENE_ID|EXPRESSION|DESCRIPTION|\n",
      "+-------+----------+-----------+\n",
      "|A00142 |31        |albumin    |\n",
      "|A00142 |71        |albumin    |\n",
      "|A00142 |51        |albumin    |\n",
      "|A00142 |101       |albumin    |\n",
      "|A00142 |191       |albumin    |\n",
      "+-------+----------+-----------+\n",
      "\n"
     ]
    }
   ],
   "source": [
    "from pyspark.sql.functions import col\n",
    "\n",
    "# Load the expression and gene descriptions datasets\n",
    "expression_df = spark.read.csv(expression_path, header=True, inferSchema=True)\n",
    "gene_desc_path = working_dir + \"/Delivery_datasets/geneDescriptions.csv\"\n",
    "gene_desc_df = spark.read.csv(gene_desc_path, header=True, inferSchema=True)\n",
    "\n",
    "# Join the datasets on TARGETID (expression dataset) and GENE_ID (gene descriptions dataset)\n",
    "joined_df = expression_df.join(gene_desc_df, expression_df[\"GENBANKID\"] == gene_desc_df[\"GENE_ID\"])\n",
    "\n",
    "# Filter for albumin genes (case-insensitive search in DESCRIPTION)\n",
    "albumin_genes_df = joined_df.filter(joined_df[\"DESCRIPTION\"].rlike(\"albumin\"))\n",
    "\n",
    "# Select the relevant columns: GENE_ID, EXPRESSION, and DESCRIPTION\n",
    "result_df = albumin_genes_df.select(\"GENE_ID\", \"EXPRESSION\", \"DESCRIPTION\")\n",
    "\n",
    "# Show the results\n",
    "result_df.show(truncate=False)"
   ]
  },
  {
   "cell_type": "markdown",
   "id": "626047e0",
   "metadata": {},
   "source": [
    "**Results**: "
   ]
  },
  {
   "cell_type": "code",
   "execution_count": null,
   "id": "fb50191d",
   "metadata": {},
   "outputs": [],
   "source": []
  }
 ],
 "metadata": {
  "kernelspec": {
   "display_name": "Python 3 (ipykernel)",
   "language": "python",
   "name": "python3"
  },
  "language_info": {
   "codemirror_mode": {
    "name": "ipython",
    "version": 3
   },
   "file_extension": ".py",
   "mimetype": "text/x-python",
   "name": "python",
   "nbconvert_exporter": "python",
   "pygments_lexer": "ipython3",
   "version": "3.10.12"
  }
 },
 "nbformat": 4,
 "nbformat_minor": 5
}
