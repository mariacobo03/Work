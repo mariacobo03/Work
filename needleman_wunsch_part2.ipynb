{
 "cells": [
  {
   "cell_type": "markdown",
   "metadata": {
    "tags": []
   },
   "source": [
    "# Playing with the Needleman-Wunsch algorithm\n",
    "\n",
    "We are going to put our hands dirty with the Neddleman and Wunsch algorithm."
   ]
  },
  {
   "cell_type": "markdown",
   "metadata": {
    "tags": []
   },
   "source": [
    "## Exercise: NW function"
   ]
  },
  {
   "cell_type": "markdown",
   "metadata": {
    "tags": []
   },
   "source": [
    "Create a function to run the NW algorithm more conviniently."
   ]
  },
  {
   "cell_type": "code",
   "execution_count": 1,
   "metadata": {},
   "outputs": [],
   "source": [
    "def nw(seq_i, seq_j, match, mismatch, gep):\n",
    "    score_mat = [[0 for j in range(len(seq_j) + 1)] for i in range(len(seq_i) + 1)]\n",
    "    traceback = [[0 for j in range(len(seq_j) + 1)] for i in range(len(seq_i) + 1)]\n",
    "\n",
    "    for i in range(0, len(seq_i) + 1):\n",
    "        score_mat[i][0] = i * gep\n",
    "        traceback[i][0] = 1\n",
    "\n",
    "    for j in range(0, len(seq_j) + 1):\n",
    "        score_mat[0][j] =j * gep\n",
    "        traceback[0][j] = -1\n",
    "\n",
    "    for i in range(1, len(seq_i) + 1):\n",
    "        for j in range(1, len(seq_j) + 1):\n",
    "            if seq_i[i - 1] == seq_j[j - 1]:\n",
    "                score = match\n",
    "            else:\n",
    "                score = mismatch\n",
    "            subst = score_mat[i - 1][j - 1] + score\n",
    "            delet = score_mat[i][j - 1] + gep\n",
    "            inser = score_mat[i - 1][j] + gep\n",
    "\n",
    "            if subst > delet and subst > inser:\n",
    "                score_mat[i][j] = subst\n",
    "                traceback[i][j] = 0\n",
    "            elif delet > inser:\n",
    "                score_mat[i][j] = delet\n",
    "                traceback[i][j] = -1\n",
    "            else:\n",
    "                score_mat[i][j] = inser\n",
    "                traceback[i][j] = 1\n",
    "\n",
    "    print(\"score:\", score_mat[-1][-1], '\\n')\n",
    "    i = len(seq_i)\n",
    "    j = len(seq_j)\n",
    "    aln_i = []\n",
    "    aln_j = []\n",
    "\n",
    "    while i != 0 or j != 0:\n",
    "        if traceback[i][j] == 0:\n",
    "            i -= 1\n",
    "            j -= 1\n",
    "            aln_i.append(seq_i[i])\n",
    "            aln_j.append(seq_j[j])\n",
    "        elif traceback[i][j] == -1:\n",
    "            j -= 1\n",
    "            aln_i.append(\"-\")\n",
    "            aln_j.append(seq_j[j])\n",
    "        else:\n",
    "            i -= 1\n",
    "            aln_i.append(seq_i[i])\n",
    "            aln_j.append(\"-\")\n",
    "\n",
    "    seq_i_aln = \"\".join(reversed(aln_i))\n",
    "    seq_j_aln = \"\".join(reversed(aln_j))\n",
    "\n",
    "    return (seq_i_aln, seq_j_aln)"
   ]
  },
  {
   "cell_type": "markdown",
   "metadata": {},
   "source": [
    "We will use the same sequences and parameters in the previous session:"
   ]
  },
  {
   "cell_type": "code",
   "execution_count": 2,
   "metadata": {},
   "outputs": [],
   "source": [
    "seq1 = 'THEFASTCAT'\n",
    "seq2 = 'THERAT'\n",
    "\n",
    "match = 1\n",
    "mismatch = -8\n",
    "gep = -4"
   ]
  },
  {
   "cell_type": "markdown",
   "metadata": {},
   "source": [
    "Run the **nw()** function and display the alignment"
   ]
  },
  {
   "cell_type": "code",
   "execution_count": 4,
   "metadata": {},
   "outputs": [
    {
     "name": "stdout",
     "output_type": "stream",
     "text": [
      "score: -19 \n",
      "\n",
      "THE-FASTCAT\n",
      "THER-A-T---\n"
     ]
    }
   ],
   "source": [
    "aln1, aln2 = nw(seq1, seq2, match, mismatch, gep)\n",
    "print(aln1)\n",
    "print(aln2)"
   ]
  },
  {
   "cell_type": "markdown",
   "metadata": {},
   "source": [
    "**Q:** Why do think we get this alignment and not the one shown below, which is one column shorter? the mismatch has larger penalty than the gap. So we are prefering gaps than substitutions."
   ]
  },
  {
   "cell_type": "raw",
   "metadata": {},
   "source": [
    "THEFASTCAT\n",
    "THERA-T---"
   ]
  },
  {
   "cell_type": "markdown",
   "metadata": {
    "tags": []
   },
   "source": [
    "## Exercise: NW opposite order"
   ]
  },
  {
   "cell_type": "markdown",
   "metadata": {},
   "source": [
    "Now call the function but providing the **same sequence in the opposite order** (provide seq2 and seq1 instead of seq1 and seq2)"
   ]
  },
  {
   "cell_type": "code",
   "execution_count": 5,
   "metadata": {},
   "outputs": [
    {
     "name": "stdout",
     "output_type": "stream",
     "text": [
      "score: -19 \n",
      "\n",
      "THE-RA-T---\n",
      "THEF-ASTCAT\n"
     ]
    }
   ],
   "source": [
    "aln = nw(seq2, seq1, match, mismatch, gep)\n",
    "print(aln[0])\n",
    "print(aln[1])"
   ]
  },
  {
   "cell_type": "markdown",
   "metadata": {},
   "source": [
    "**Q:** What's going on here? Can I trust my algorithm? there is more than one alignment with the same optimal score."
   ]
  },
  {
   "cell_type": "markdown",
   "metadata": {
    "tags": []
   },
   "source": [
    "## Exercise: NW change parameters"
   ]
  },
  {
   "cell_type": "markdown",
   "metadata": {},
   "source": [
    "Let's play with the parameters. We go back to the original order of the sequences."
   ]
  },
  {
   "cell_type": "markdown",
   "metadata": {},
   "source": [
    "**Q:** How can I get the alignment below by changing *mismatch* and *gep*? Find the greatest integers (the least negative) that produce the alignment below."
   ]
  },
  {
   "cell_type": "raw",
   "metadata": {},
   "source": [
    "THEFASTCAT\n",
    "THERA-T---"
   ]
  },
  {
   "cell_type": "code",
   "execution_count": 6,
   "metadata": {},
   "outputs": [
    {
     "name": "stdout",
     "output_type": "stream",
     "text": [
      "score: 0 \n",
      "\n",
      "THEFASTCAT\n",
      "THERA-T---\n"
     ]
    }
   ],
   "source": [
    "match = 1\n",
    "mismatch = -1\n",
    "gep = -1\n",
    "aln = nw(seq1, seq2, match, mismatch, gep)\n",
    "print(aln[0])\n",
    "print(aln[1])"
   ]
  },
  {
   "cell_type": "markdown",
   "metadata": {},
   "source": [
    "Now let's restore the initial parameters (which provided the alignment below)"
   ]
  },
  {
   "cell_type": "raw",
   "metadata": {},
   "source": [
    "THE-FASTCAT\n",
    "THER-A-T---"
   ]
  },
  {
   "cell_type": "code",
   "execution_count": 7,
   "metadata": {
    "tags": []
   },
   "outputs": [],
   "source": [
    "match = 1\n",
    "mismatch = -8\n",
    "gep = -4"
   ]
  },
  {
   "cell_type": "markdown",
   "metadata": {
    "tags": []
   },
   "source": [
    "## Exercise: NW function (II)"
   ]
  },
  {
   "cell_type": "markdown",
   "metadata": {},
   "source": [
    "**Q:** Could you try to obtain tha alignment below without changing the values of *match*, *mismatch* and *gep*? HINT: This requires modifying one line in the *nw()* function?"
   ]
  },
  {
   "cell_type": "raw",
   "metadata": {},
   "source": [
    "THE-RA-T---\n",
    "THEF-ASTCAT"
   ]
  },
  {
   "cell_type": "code",
   "execution_count": 8,
   "metadata": {},
   "outputs": [
    {
     "name": "stdout",
     "output_type": "stream",
     "text": [
      "score: -19 \n",
      "\n",
      "THEF-ASTCAT\n",
      "THE-RA-T---\n"
     ]
    }
   ],
   "source": [
    "# Paste the nw function here and modify it (or use it in a separate script)\n",
    "def nw(seq_i, seq_j, match, mismatch, gep):\n",
    "    score_mat = [[0 for j in range(len(seq_j) + 1)] for i in range(len(seq_i) + 1)]\n",
    "    traceback = [[0 for j in range(len(seq_j) + 1)] for i in range(len(seq_i) + 1)]\n",
    "\n",
    "    for i in range(0, len(seq_i) + 1):\n",
    "        score_mat[i][0] = i * gep\n",
    "        traceback[i][0] = 1\n",
    "\n",
    "    for j in range(0, len(seq_j) + 1):\n",
    "        score_mat[0][j] =j * gep\n",
    "        traceback[0][j] = -1\n",
    "\n",
    "    for i in range(1, len(seq_i) + 1):\n",
    "        for j in range(1, len(seq_j) + 1):\n",
    "            if seq_i[i - 1] == seq_j[j - 1]:\n",
    "                score = match\n",
    "            else:\n",
    "                score = mismatch\n",
    "            subst = score_mat[i - 1][j - 1] + score\n",
    "            delet = score_mat[i][j - 1] + gep\n",
    "            inser = score_mat[i - 1][j] + gep\n",
    "\n",
    "            if subst > delet and subst > inser:\n",
    "                score_mat[i][j] = subst\n",
    "                traceback[i][j] = 0\n",
    "            elif delet >= inser:  # change here\n",
    "                score_mat[i][j] = delet\n",
    "                traceback[i][j] = -1\n",
    "            else:\n",
    "                score_mat[i][j] = inser\n",
    "                traceback[i][j] = 1\n",
    "\n",
    "    print(\"score:\", score_mat[-1][-1], '\\n')\n",
    "    i = len(seq_i)\n",
    "    j = len(seq_j)\n",
    "    aln_i = []\n",
    "    aln_j = []\n",
    "\n",
    "    while i != 0 or j != 0:\n",
    "        if traceback[i][j] == 0:\n",
    "            i -= 1\n",
    "            j -= 1\n",
    "            aln_i.append(seq_i[i])\n",
    "            aln_j.append(seq_j[j])\n",
    "        elif traceback[i][j] == -1:\n",
    "            j -= 1\n",
    "            aln_i.append(\"-\")\n",
    "            aln_j.append(seq_j[j])\n",
    "        else:\n",
    "            i -= 1\n",
    "            aln_i.append(seq_i[i])\n",
    "            aln_j.append(\"-\")\n",
    "\n",
    "    seq_i_aln = \"\".join(reversed(aln_i))\n",
    "    seq_j_aln = \"\".join(reversed(aln_j))\n",
    "\n",
    "    return (seq_i_aln, seq_j_aln)\n",
    "\n",
    "aln = nw(seq1, seq2, match, mismatch, gep)\n",
    "print(aln[0])\n",
    "print(aln[1])"
   ]
  },
  {
   "cell_type": "markdown",
   "metadata": {
    "tags": []
   },
   "source": [
    "## Exercise: NW function (III)"
   ]
  },
  {
   "cell_type": "markdown",
   "metadata": {},
   "source": [
    "**Q:** Now, could you try to obtain the alignment below? HINT: This requires an additional change in the *nw()* function?"
   ]
  },
  {
   "cell_type": "raw",
   "metadata": {},
   "source": [
    "THEFASTCAT\n",
    "THE----RAT"
   ]
  },
  {
   "cell_type": "code",
   "execution_count": 9,
   "metadata": {
    "tags": []
   },
   "outputs": [
    {
     "name": "stdout",
     "output_type": "stream",
     "text": [
      "score: -19 \n",
      "\n",
      "THEFASTCAT\n",
      "THE----RAT\n"
     ]
    }
   ],
   "source": [
    "# Paste the nw function here and modify it (or use it in a separate script)\n",
    "def nw(seq_i, seq_j, match, mismatch, gep):\n",
    "    score_mat = [[0 for j in range(len(seq_j) + 1)] for i in range(len(seq_i) + 1)]\n",
    "    traceback = [[0 for j in range(len(seq_j) + 1)] for i in range(len(seq_i) + 1)]\n",
    "\n",
    "    for i in range(0, len(seq_i) + 1):\n",
    "        score_mat[i][0] = i * gep\n",
    "        traceback[i][0] = 1\n",
    "\n",
    "    for j in range(0, len(seq_j) + 1):\n",
    "        score_mat[0][j] =j * gep\n",
    "        traceback[0][j] = -1\n",
    "\n",
    "    for i in range(1, len(seq_i) + 1):\n",
    "        for j in range(1, len(seq_j) + 1):\n",
    "            if seq_i[i - 1] == seq_j[j - 1]:\n",
    "                score = match\n",
    "            else:\n",
    "                score = mismatch\n",
    "            subst = score_mat[i - 1][j - 1] + score\n",
    "            delet = score_mat[i][j - 1] + gep\n",
    "            inser = score_mat[i - 1][j] + gep\n",
    "\n",
    "            if subst >= delet and subst >= inser: ##\n",
    "                score_mat[i][j] = subst\n",
    "                traceback[i][j] = 0\n",
    "            elif delet >= inser:\n",
    "                score_mat[i][j] = delet\n",
    "                traceback[i][j] = -1\n",
    "            else:\n",
    "                score_mat[i][j] = inser\n",
    "                traceback[i][j] = 1\n",
    "\n",
    "    print(\"score:\", score_mat[-1][-1], '\\n')\n",
    "    i = len(seq_i)\n",
    "    j = len(seq_j)\n",
    "    aln_i = []\n",
    "    aln_j = []\n",
    "\n",
    "    while i != 0 or j != 0:\n",
    "        if traceback[i][j] == 0:\n",
    "            i -= 1\n",
    "            j -= 1\n",
    "            aln_i.append(seq_i[i])\n",
    "            aln_j.append(seq_j[j])\n",
    "        elif traceback[i][j] == -1:\n",
    "            j -= 1\n",
    "            aln_i.append(\"-\")\n",
    "            aln_j.append(seq_j[j])\n",
    "        else:\n",
    "            i -= 1\n",
    "            aln_i.append(seq_i[i])\n",
    "            aln_j.append(\"-\")\n",
    "\n",
    "    seq_i_aln = \"\".join(reversed(aln_i))\n",
    "    seq_j_aln = \"\".join(reversed(aln_j))\n",
    "\n",
    "    return (seq_i_aln, seq_j_aln)\n",
    "\n",
    "\n",
    "aln = nw(seq1, seq2, match, mismatch, gep)\n",
    "print(aln[0])\n",
    "print(aln[1])"
   ]
  },
  {
   "cell_type": "markdown",
   "metadata": {
    "tags": []
   },
   "source": [
    "## Exercise: suboptimal alignments"
   ]
  },
  {
   "cell_type": "markdown",
   "metadata": {},
   "source": [
    "Modify the *nw()* function so that it can return a subotimal alignment. For this we are going to modify the score of each substitution (either match or mismatch) by adding a random integer (beteen -2 and 0). Be sure that the function returns the score in addition to the sequence."
   ]
  },
  {
   "cell_type": "code",
   "execution_count": 10,
   "metadata": {},
   "outputs": [],
   "source": [
    "import random\n",
    "\n",
    "def nw_suboptimal(seq_i, seq_j, match, mismatch, gep):\n",
    "    score_mat = [[0 for j in range(len(seq_j) + 1)] for i in range(len(seq_i) + 1)]\n",
    "    traceback = [[0 for j in range(len(seq_j) + 1)] for i in range(len(seq_i) + 1)]\n",
    "\n",
    "    for i in range(0, len(seq_i) + 1):\n",
    "        score_mat[i][0] = i * gep\n",
    "        traceback[i][0] = 1\n",
    "\n",
    "    for j in range(0, len(seq_j) + 1):\n",
    "        score_mat[0][j] =j * gep\n",
    "        traceback[0][j] = -1\n",
    "\n",
    "    for i in range(1, len(seq_i) + 1):\n",
    "        for j in range(1, len(seq_j) + 1):\n",
    "            if seq_i[i - 1] == seq_j[j - 1]:\n",
    "                score = match\n",
    "            else:\n",
    "                score = mismatch\n",
    "            subst = score_mat[i - 1][j - 1] + score + random.randint(-1, 0)\n",
    "            delet = score_mat[i][j - 1] + gep\n",
    "            inser = score_mat[i - 1][j] + gep\n",
    "\n",
    "            if subst >= delet and subst >= inser: ##\n",
    "                score_mat[i][j] = subst\n",
    "                traceback[i][j] = 0\n",
    "            elif delet >= inser:\n",
    "                score_mat[i][j] = delet\n",
    "                traceback[i][j] = -1\n",
    "            else:\n",
    "                score_mat[i][j] = inser\n",
    "                traceback[i][j] = 1\n",
    "\n",
    "    total_score = score_mat[-1][-1]\n",
    "    i = len(seq_i)\n",
    "    j = len(seq_j)\n",
    "    aln_i = []\n",
    "    aln_j = []\n",
    "\n",
    "    while i != 0 or j != 0:\n",
    "        if traceback[i][j] == 0:\n",
    "            i -= 1\n",
    "            j -= 1\n",
    "            aln_i.append(seq_i[i])\n",
    "            aln_j.append(seq_j[j])\n",
    "        elif traceback[i][j] == -1:\n",
    "            j -= 1\n",
    "            aln_i.append(\"-\")\n",
    "            aln_j.append(seq_j[j])\n",
    "        else:\n",
    "            i -= 1\n",
    "            aln_i.append(seq_i[i])\n",
    "            aln_j.append(\"-\")\n",
    "\n",
    "    seq_i_aln = \"\".join(reversed(aln_i))\n",
    "    seq_j_aln = \"\".join(reversed(aln_j))\n",
    "\n",
    "    return (total_score, seq_i_aln, seq_j_aln)"
   ]
  },
  {
   "cell_type": "code",
   "execution_count": 11,
   "metadata": {},
   "outputs": [
    {
     "name": "stdout",
     "output_type": "stream",
     "text": [
      "Help on method randint in module random:\n",
      "\n",
      "randint(a, b) method of random.Random instance\n",
      "    Return random integer in range [a, b], including both end points.\n",
      "\n"
     ]
    }
   ],
   "source": [
    "help(random.randint)"
   ]
  },
  {
   "cell_type": "code",
   "execution_count": 12,
   "metadata": {
    "tags": []
   },
   "outputs": [
    {
     "name": "stdout",
     "output_type": "stream",
     "text": [
      "-23 THEFASTCAT THE----RAT\n"
     ]
    }
   ],
   "source": [
    "score, aln1, aln2 = nw_suboptimal(seq1, seq2, match, mismatch, gep)\n",
    "print(score, aln1, aln2)"
   ]
  },
  {
   "cell_type": "markdown",
   "metadata": {
    "tags": []
   },
   "source": [
    "## Exercise: many suboptimal alignments"
   ]
  },
  {
   "cell_type": "markdown",
   "metadata": {},
   "source": [
    "When you have implemented the modificaiton, write a code that runs *n* alignments and keeps only the unique ones."
   ]
  },
  {
   "cell_type": "code",
   "execution_count": 13,
   "metadata": {},
   "outputs": [
    {
     "name": "stdout",
     "output_type": "stream",
     "text": [
      "(-21, ('THEFASTCAT', 'THE----RAT'))\n",
      "(-20, ('THEFASTCAT', 'THERA----T'))\n",
      "(-21, ('THEFASTCAT', 'THERA-T---'))\n",
      "(-21, ('THEF-ASTCAT', 'THE-RA-T---'))\n",
      "(-20, ('THEF-ASTCAT', 'THE-RA----T'))\n",
      "(-21, ('THEFASTC-AT', 'THE-----RAT'))\n"
     ]
    }
   ],
   "source": [
    "n = 100\n",
    "aligns = set()\n",
    "scores = []\n",
    "for i in range(n):\n",
    "    score, aln1, aln2 = nw_suboptimal(seq1, seq2, match, mismatch, gep)\n",
    "    if (aln1, aln2) not in aligns:\n",
    "        aligns.add((aln1, aln2))\n",
    "        scores.append(score)\n",
    "        \n",
    "for align in zip(scores, aligns):\n",
    "    print(align)"
   ]
  },
  {
   "cell_type": "markdown",
   "metadata": {
    "tags": []
   },
   "source": [
    "## Exercise: Mixing DNA and RNA sequences"
   ]
  },
  {
   "cell_type": "markdown",
   "metadata": {},
   "source": [
    "Modify the nw() function (use the version before the suboptimal exercise) to allow the alignment of one DNA sequence with one RNA sequence. In the final alignment, nucleotides that correspond to one another in the different alphabets (U and T) should be aligned, as in the following example:"
   ]
  },
  {
   "cell_type": "raw",
   "metadata": {},
   "source": [
    "ATCGATGCTATGCTAAAT-ACGAT\n",
    "-UCGAUGCUAU-CUAAAUAACGAU"
   ]
  },
  {
   "cell_type": "markdown",
   "metadata": {},
   "source": [
    "The RNA could be in either the first, the second sequence, or both of them."
   ]
  },
  {
   "cell_type": "code",
   "execution_count": 16,
   "metadata": {},
   "outputs": [],
   "source": [
    "# Paste the nw function here and modify it (or use it in a separate script)\n",
    "def nw_rna(seq_i, seq_j, match, mismatch, gep):\n",
    "    score_mat = [[0 for j in range(len(seq_j) + 1)] for i in range(len(seq_i) + 1)]\n",
    "    traceback = [[0 for j in range(len(seq_j) + 1)] for i in range(len(seq_i) + 1)]\n",
    "\n",
    "    # change in the next 2 lines\n",
    "    dna_i = seq_i.replace(\"U\", \"T\")\n",
    "    dna_j = seq_j.replace(\"U\", \"T\")\n",
    "    \n",
    "    for i in range(0, len(seq_i) + 1):\n",
    "        score_mat[i][0] = i * gep\n",
    "        traceback[i][0] = 1\n",
    "\n",
    "    for j in range(0, len(seq_j) + 1):\n",
    "        score_mat[0][j] = j * gep\n",
    "        traceback[0][j] = -1\n",
    "\n",
    "    for i in range(1, len(seq_i) + 1):\n",
    "        for j in range(1, len(seq_j) + 1):\n",
    "            score = match if dna_i[i - 1] == dna_j[j - 1] else mismatch\n",
    "            subst = score_mat[i - 1][j - 1] + score\n",
    "            delet = score_mat[i][j - 1] + gep\n",
    "            inser = score_mat[i - 1][j] + gep\n",
    "\n",
    "            if subst >= delet and subst >= inser:\n",
    "                score_mat[i][j] = subst\n",
    "                traceback[i][j] = 0\n",
    "            elif delet >= inser:\n",
    "                score_mat[i][j] = delet\n",
    "                traceback[i][j] = -1\n",
    "            else:\n",
    "                score_mat[i][j] = inser\n",
    "                traceback[i][j] = 1\n",
    "\n",
    "    # print(\"score:\", score_mat[-1][-1], '\\n')\n",
    "    i = len(seq_i)\n",
    "    j = len(seq_j)\n",
    "    aln_i = []\n",
    "    aln_j = []\n",
    "\n",
    "    while i != 0 or j != 0:\n",
    "        if traceback[i][j] == 0:\n",
    "            i -= 1\n",
    "            j -= 1\n",
    "            aln_i.append(seq_i[i])\n",
    "            aln_j.append(seq_j[j])\n",
    "        elif traceback[i][j] == -1:\n",
    "            j -= 1\n",
    "            aln_i.append(\"-\")\n",
    "            aln_j.append(seq_j[j])\n",
    "        else:\n",
    "            i -= 1\n",
    "            aln_i.append(seq_i[i])\n",
    "            aln_j.append(\"-\")\n",
    "\n",
    "    seq_i_aln = \"\".join(reversed(aln_i))\n",
    "    seq_j_aln = \"\".join(reversed(aln_j))\n",
    "\n",
    "    return (seq_i_aln, seq_j_aln)"
   ]
  },
  {
   "cell_type": "code",
   "execution_count": 17,
   "metadata": {},
   "outputs": [
    {
     "name": "stdout",
     "output_type": "stream",
     "text": [
      "ATCGATGCTATGCTAAAT-ACGAT\n",
      "-UCGAUGCUAU-CUAAAUAACGAU\n"
     ]
    }
   ],
   "source": [
    "aln1, aln2 = nw_rna(\"ATCGATGCTATGCTAAATACGAT\", \"UCGAUGCUAUCUAAAUAACGAU\", 1, -1, -1)\n",
    "print(aln1)\n",
    "print(aln2)"
   ]
  },
  {
   "cell_type": "markdown",
   "metadata": {
    "tags": []
   },
   "source": [
    "## Exercise: implement a substitution matrix"
   ]
  },
  {
   "cell_type": "markdown",
   "metadata": {},
   "source": [
    "You can use Biopython to get the most common substitution matrices."
   ]
  },
  {
   "cell_type": "code",
   "execution_count": 18,
   "metadata": {
    "scrolled": true
   },
   "outputs": [
    {
     "data": {
      "text/plain": [
       "['BENNER22',\n",
       " 'BENNER6',\n",
       " 'BENNER74',\n",
       " 'BLOSUM45',\n",
       " 'BLOSUM50',\n",
       " 'BLOSUM62',\n",
       " 'BLOSUM80',\n",
       " 'BLOSUM90',\n",
       " 'DAYHOFF',\n",
       " 'FENG',\n",
       " 'GENETIC',\n",
       " 'GONNET1992',\n",
       " 'HOXD70',\n",
       " 'JOHNSON',\n",
       " 'JONES',\n",
       " 'LEVIN',\n",
       " 'MCLACHLAN',\n",
       " 'MDM78',\n",
       " 'NUC.4.4',\n",
       " 'PAM250',\n",
       " 'PAM30',\n",
       " 'PAM70',\n",
       " 'RAO',\n",
       " 'RISLER',\n",
       " 'SCHNEIDER',\n",
       " 'STR',\n",
       " 'TRANS']"
      ]
     },
     "execution_count": 18,
     "metadata": {},
     "output_type": "execute_result"
    }
   ],
   "source": [
    "from Bio.Align import substitution_matrices\n",
    "substitution_matrices.load()"
   ]
  },
  {
   "cell_type": "markdown",
   "metadata": {},
   "source": [
    "We will choose the BLOSUM62"
   ]
  },
  {
   "cell_type": "code",
   "execution_count": 19,
   "metadata": {
    "scrolled": true
   },
   "outputs": [
    {
     "data": {
      "text/plain": [
       "Array([[ 4., -1., -2., -2.,  0., -1., -1.,  0., -2., -1., -1., -1., -1.,\n",
       "        -2., -1.,  1.,  0., -3., -2.,  0., -2., -1.,  0., -4.],\n",
       "       [-1.,  5.,  0., -2., -3.,  1.,  0., -2.,  0., -3., -2.,  2., -1.,\n",
       "        -3., -2., -1., -1., -3., -2., -3., -1.,  0., -1., -4.],\n",
       "       [-2.,  0.,  6.,  1., -3.,  0.,  0.,  0.,  1., -3., -3.,  0., -2.,\n",
       "        -3., -2.,  1.,  0., -4., -2., -3.,  3.,  0., -1., -4.],\n",
       "       [-2., -2.,  1.,  6., -3.,  0.,  2., -1., -1., -3., -4., -1., -3.,\n",
       "        -3., -1.,  0., -1., -4., -3., -3.,  4.,  1., -1., -4.],\n",
       "       [ 0., -3., -3., -3.,  9., -3., -4., -3., -3., -1., -1., -3., -1.,\n",
       "        -2., -3., -1., -1., -2., -2., -1., -3., -3., -2., -4.],\n",
       "       [-1.,  1.,  0.,  0., -3.,  5.,  2., -2.,  0., -3., -2.,  1.,  0.,\n",
       "        -3., -1.,  0., -1., -2., -1., -2.,  0.,  3., -1., -4.],\n",
       "       [-1.,  0.,  0.,  2., -4.,  2.,  5., -2.,  0., -3., -3.,  1., -2.,\n",
       "        -3., -1.,  0., -1., -3., -2., -2.,  1.,  4., -1., -4.],\n",
       "       [ 0., -2.,  0., -1., -3., -2., -2.,  6., -2., -4., -4., -2., -3.,\n",
       "        -3., -2.,  0., -2., -2., -3., -3., -1., -2., -1., -4.],\n",
       "       [-2.,  0.,  1., -1., -3.,  0.,  0., -2.,  8., -3., -3., -1., -2.,\n",
       "        -1., -2., -1., -2., -2.,  2., -3.,  0.,  0., -1., -4.],\n",
       "       [-1., -3., -3., -3., -1., -3., -3., -4., -3.,  4.,  2., -3.,  1.,\n",
       "         0., -3., -2., -1., -3., -1.,  3., -3., -3., -1., -4.],\n",
       "       [-1., -2., -3., -4., -1., -2., -3., -4., -3.,  2.,  4., -2.,  2.,\n",
       "         0., -3., -2., -1., -2., -1.,  1., -4., -3., -1., -4.],\n",
       "       [-1.,  2.,  0., -1., -3.,  1.,  1., -2., -1., -3., -2.,  5., -1.,\n",
       "        -3., -1.,  0., -1., -3., -2., -2.,  0.,  1., -1., -4.],\n",
       "       [-1., -1., -2., -3., -1.,  0., -2., -3., -2.,  1.,  2., -1.,  5.,\n",
       "         0., -2., -1., -1., -1., -1.,  1., -3., -1., -1., -4.],\n",
       "       [-2., -3., -3., -3., -2., -3., -3., -3., -1.,  0.,  0., -3.,  0.,\n",
       "         6., -4., -2., -2.,  1.,  3., -1., -3., -3., -1., -4.],\n",
       "       [-1., -2., -2., -1., -3., -1., -1., -2., -2., -3., -3., -1., -2.,\n",
       "        -4.,  7., -1., -1., -4., -3., -2., -2., -1., -2., -4.],\n",
       "       [ 1., -1.,  1.,  0., -1.,  0.,  0.,  0., -1., -2., -2.,  0., -1.,\n",
       "        -2., -1.,  4.,  1., -3., -2., -2.,  0.,  0.,  0., -4.],\n",
       "       [ 0., -1.,  0., -1., -1., -1., -1., -2., -2., -1., -1., -1., -1.,\n",
       "        -2., -1.,  1.,  5., -2., -2.,  0., -1., -1.,  0., -4.],\n",
       "       [-3., -3., -4., -4., -2., -2., -3., -2., -2., -3., -2., -3., -1.,\n",
       "         1., -4., -3., -2., 11.,  2., -3., -4., -3., -2., -4.],\n",
       "       [-2., -2., -2., -3., -2., -1., -2., -3.,  2., -1., -1., -2., -1.,\n",
       "         3., -3., -2., -2.,  2.,  7., -1., -3., -2., -1., -4.],\n",
       "       [ 0., -3., -3., -3., -1., -2., -2., -3., -3.,  3.,  1., -2.,  1.,\n",
       "        -1., -2., -2.,  0., -3., -1.,  4., -3., -2., -1., -4.],\n",
       "       [-2., -1.,  3.,  4., -3.,  0.,  1., -1.,  0., -3., -4.,  0., -3.,\n",
       "        -3., -2.,  0., -1., -4., -3., -3.,  4.,  1., -1., -4.],\n",
       "       [-1.,  0.,  0.,  1., -3.,  3.,  4., -2.,  0., -3., -3.,  1., -1.,\n",
       "        -3., -1.,  0., -1., -3., -2., -2.,  1.,  4., -1., -4.],\n",
       "       [ 0., -1., -1., -1., -2., -1., -1., -1., -1., -1., -1., -1., -1.,\n",
       "        -1., -2.,  0.,  0., -2., -1., -1., -1., -1., -1., -4.],\n",
       "       [-4., -4., -4., -4., -4., -4., -4., -4., -4., -4., -4., -4., -4.,\n",
       "        -4., -4., -4., -4., -4., -4., -4., -4., -4., -4.,  1.]],\n",
       "         alphabet='ARNDCQEGHILKMFPSTWYVBZX*')"
      ]
     },
     "execution_count": 19,
     "metadata": {},
     "output_type": "execute_result"
    }
   ],
   "source": [
    "subst_mat = substitution_matrices.load('BLOSUM62')\n",
    "subst_mat"
   ]
  },
  {
   "cell_type": "code",
   "execution_count": 20,
   "metadata": {},
   "outputs": [
    {
     "data": {
      "text/plain": [
       "'ARNDCQEGHILKMFPSTWYVBZX*'"
      ]
     },
     "execution_count": 20,
     "metadata": {},
     "output_type": "execute_result"
    }
   ],
   "source": [
    "subst_mat.alphabet"
   ]
  },
  {
   "cell_type": "code",
   "execution_count": 21,
   "metadata": {},
   "outputs": [
    {
     "data": {
      "text/plain": [
       "-1.0"
      ]
     },
     "execution_count": 21,
     "metadata": {},
     "output_type": "execute_result"
    }
   ],
   "source": [
    "subst_mat['A']['I']"
   ]
  },
  {
   "cell_type": "markdown",
   "metadata": {},
   "source": [
    "Putting this in a dataframe will permit to display the matrix better"
   ]
  },
  {
   "cell_type": "code",
   "execution_count": 23,
   "metadata": {},
   "outputs": [
    {
     "data": {
      "text/html": [
       "<div>\n",
       "<style scoped>\n",
       "    .dataframe tbody tr th:only-of-type {\n",
       "        vertical-align: middle;\n",
       "    }\n",
       "\n",
       "    .dataframe tbody tr th {\n",
       "        vertical-align: top;\n",
       "    }\n",
       "\n",
       "    .dataframe thead th {\n",
       "        text-align: right;\n",
       "    }\n",
       "</style>\n",
       "<table border=\"1\" class=\"dataframe\">\n",
       "  <thead>\n",
       "    <tr style=\"text-align: right;\">\n",
       "      <th></th>\n",
       "      <th>A</th>\n",
       "      <th>R</th>\n",
       "      <th>N</th>\n",
       "      <th>D</th>\n",
       "      <th>C</th>\n",
       "      <th>Q</th>\n",
       "      <th>E</th>\n",
       "      <th>G</th>\n",
       "      <th>H</th>\n",
       "      <th>I</th>\n",
       "      <th>...</th>\n",
       "      <th>P</th>\n",
       "      <th>S</th>\n",
       "      <th>T</th>\n",
       "      <th>W</th>\n",
       "      <th>Y</th>\n",
       "      <th>V</th>\n",
       "      <th>B</th>\n",
       "      <th>Z</th>\n",
       "      <th>X</th>\n",
       "      <th>*</th>\n",
       "    </tr>\n",
       "  </thead>\n",
       "  <tbody>\n",
       "    <tr>\n",
       "      <th>A</th>\n",
       "      <td>4.0</td>\n",
       "      <td>-1.0</td>\n",
       "      <td>-2.0</td>\n",
       "      <td>-2.0</td>\n",
       "      <td>0.0</td>\n",
       "      <td>-1.0</td>\n",
       "      <td>-1.0</td>\n",
       "      <td>0.0</td>\n",
       "      <td>-2.0</td>\n",
       "      <td>-1.0</td>\n",
       "      <td>...</td>\n",
       "      <td>-1.0</td>\n",
       "      <td>1.0</td>\n",
       "      <td>0.0</td>\n",
       "      <td>-3.0</td>\n",
       "      <td>-2.0</td>\n",
       "      <td>0.0</td>\n",
       "      <td>-2.0</td>\n",
       "      <td>-1.0</td>\n",
       "      <td>0.0</td>\n",
       "      <td>-4.0</td>\n",
       "    </tr>\n",
       "    <tr>\n",
       "      <th>R</th>\n",
       "      <td>-1.0</td>\n",
       "      <td>5.0</td>\n",
       "      <td>0.0</td>\n",
       "      <td>-2.0</td>\n",
       "      <td>-3.0</td>\n",
       "      <td>1.0</td>\n",
       "      <td>0.0</td>\n",
       "      <td>-2.0</td>\n",
       "      <td>0.0</td>\n",
       "      <td>-3.0</td>\n",
       "      <td>...</td>\n",
       "      <td>-2.0</td>\n",
       "      <td>-1.0</td>\n",
       "      <td>-1.0</td>\n",
       "      <td>-3.0</td>\n",
       "      <td>-2.0</td>\n",
       "      <td>-3.0</td>\n",
       "      <td>-1.0</td>\n",
       "      <td>0.0</td>\n",
       "      <td>-1.0</td>\n",
       "      <td>-4.0</td>\n",
       "    </tr>\n",
       "    <tr>\n",
       "      <th>N</th>\n",
       "      <td>-2.0</td>\n",
       "      <td>0.0</td>\n",
       "      <td>6.0</td>\n",
       "      <td>1.0</td>\n",
       "      <td>-3.0</td>\n",
       "      <td>0.0</td>\n",
       "      <td>0.0</td>\n",
       "      <td>0.0</td>\n",
       "      <td>1.0</td>\n",
       "      <td>-3.0</td>\n",
       "      <td>...</td>\n",
       "      <td>-2.0</td>\n",
       "      <td>1.0</td>\n",
       "      <td>0.0</td>\n",
       "      <td>-4.0</td>\n",
       "      <td>-2.0</td>\n",
       "      <td>-3.0</td>\n",
       "      <td>3.0</td>\n",
       "      <td>0.0</td>\n",
       "      <td>-1.0</td>\n",
       "      <td>-4.0</td>\n",
       "    </tr>\n",
       "    <tr>\n",
       "      <th>D</th>\n",
       "      <td>-2.0</td>\n",
       "      <td>-2.0</td>\n",
       "      <td>1.0</td>\n",
       "      <td>6.0</td>\n",
       "      <td>-3.0</td>\n",
       "      <td>0.0</td>\n",
       "      <td>2.0</td>\n",
       "      <td>-1.0</td>\n",
       "      <td>-1.0</td>\n",
       "      <td>-3.0</td>\n",
       "      <td>...</td>\n",
       "      <td>-1.0</td>\n",
       "      <td>0.0</td>\n",
       "      <td>-1.0</td>\n",
       "      <td>-4.0</td>\n",
       "      <td>-3.0</td>\n",
       "      <td>-3.0</td>\n",
       "      <td>4.0</td>\n",
       "      <td>1.0</td>\n",
       "      <td>-1.0</td>\n",
       "      <td>-4.0</td>\n",
       "    </tr>\n",
       "    <tr>\n",
       "      <th>C</th>\n",
       "      <td>0.0</td>\n",
       "      <td>-3.0</td>\n",
       "      <td>-3.0</td>\n",
       "      <td>-3.0</td>\n",
       "      <td>9.0</td>\n",
       "      <td>-3.0</td>\n",
       "      <td>-4.0</td>\n",
       "      <td>-3.0</td>\n",
       "      <td>-3.0</td>\n",
       "      <td>-1.0</td>\n",
       "      <td>...</td>\n",
       "      <td>-3.0</td>\n",
       "      <td>-1.0</td>\n",
       "      <td>-1.0</td>\n",
       "      <td>-2.0</td>\n",
       "      <td>-2.0</td>\n",
       "      <td>-1.0</td>\n",
       "      <td>-3.0</td>\n",
       "      <td>-3.0</td>\n",
       "      <td>-2.0</td>\n",
       "      <td>-4.0</td>\n",
       "    </tr>\n",
       "    <tr>\n",
       "      <th>Q</th>\n",
       "      <td>-1.0</td>\n",
       "      <td>1.0</td>\n",
       "      <td>0.0</td>\n",
       "      <td>0.0</td>\n",
       "      <td>-3.0</td>\n",
       "      <td>5.0</td>\n",
       "      <td>2.0</td>\n",
       "      <td>-2.0</td>\n",
       "      <td>0.0</td>\n",
       "      <td>-3.0</td>\n",
       "      <td>...</td>\n",
       "      <td>-1.0</td>\n",
       "      <td>0.0</td>\n",
       "      <td>-1.0</td>\n",
       "      <td>-2.0</td>\n",
       "      <td>-1.0</td>\n",
       "      <td>-2.0</td>\n",
       "      <td>0.0</td>\n",
       "      <td>3.0</td>\n",
       "      <td>-1.0</td>\n",
       "      <td>-4.0</td>\n",
       "    </tr>\n",
       "    <tr>\n",
       "      <th>E</th>\n",
       "      <td>-1.0</td>\n",
       "      <td>0.0</td>\n",
       "      <td>0.0</td>\n",
       "      <td>2.0</td>\n",
       "      <td>-4.0</td>\n",
       "      <td>2.0</td>\n",
       "      <td>5.0</td>\n",
       "      <td>-2.0</td>\n",
       "      <td>0.0</td>\n",
       "      <td>-3.0</td>\n",
       "      <td>...</td>\n",
       "      <td>-1.0</td>\n",
       "      <td>0.0</td>\n",
       "      <td>-1.0</td>\n",
       "      <td>-3.0</td>\n",
       "      <td>-2.0</td>\n",
       "      <td>-2.0</td>\n",
       "      <td>1.0</td>\n",
       "      <td>4.0</td>\n",
       "      <td>-1.0</td>\n",
       "      <td>-4.0</td>\n",
       "    </tr>\n",
       "    <tr>\n",
       "      <th>G</th>\n",
       "      <td>0.0</td>\n",
       "      <td>-2.0</td>\n",
       "      <td>0.0</td>\n",
       "      <td>-1.0</td>\n",
       "      <td>-3.0</td>\n",
       "      <td>-2.0</td>\n",
       "      <td>-2.0</td>\n",
       "      <td>6.0</td>\n",
       "      <td>-2.0</td>\n",
       "      <td>-4.0</td>\n",
       "      <td>...</td>\n",
       "      <td>-2.0</td>\n",
       "      <td>0.0</td>\n",
       "      <td>-2.0</td>\n",
       "      <td>-2.0</td>\n",
       "      <td>-3.0</td>\n",
       "      <td>-3.0</td>\n",
       "      <td>-1.0</td>\n",
       "      <td>-2.0</td>\n",
       "      <td>-1.0</td>\n",
       "      <td>-4.0</td>\n",
       "    </tr>\n",
       "    <tr>\n",
       "      <th>H</th>\n",
       "      <td>-2.0</td>\n",
       "      <td>0.0</td>\n",
       "      <td>1.0</td>\n",
       "      <td>-1.0</td>\n",
       "      <td>-3.0</td>\n",
       "      <td>0.0</td>\n",
       "      <td>0.0</td>\n",
       "      <td>-2.0</td>\n",
       "      <td>8.0</td>\n",
       "      <td>-3.0</td>\n",
       "      <td>...</td>\n",
       "      <td>-2.0</td>\n",
       "      <td>-1.0</td>\n",
       "      <td>-2.0</td>\n",
       "      <td>-2.0</td>\n",
       "      <td>2.0</td>\n",
       "      <td>-3.0</td>\n",
       "      <td>0.0</td>\n",
       "      <td>0.0</td>\n",
       "      <td>-1.0</td>\n",
       "      <td>-4.0</td>\n",
       "    </tr>\n",
       "    <tr>\n",
       "      <th>I</th>\n",
       "      <td>-1.0</td>\n",
       "      <td>-3.0</td>\n",
       "      <td>-3.0</td>\n",
       "      <td>-3.0</td>\n",
       "      <td>-1.0</td>\n",
       "      <td>-3.0</td>\n",
       "      <td>-3.0</td>\n",
       "      <td>-4.0</td>\n",
       "      <td>-3.0</td>\n",
       "      <td>4.0</td>\n",
       "      <td>...</td>\n",
       "      <td>-3.0</td>\n",
       "      <td>-2.0</td>\n",
       "      <td>-1.0</td>\n",
       "      <td>-3.0</td>\n",
       "      <td>-1.0</td>\n",
       "      <td>3.0</td>\n",
       "      <td>-3.0</td>\n",
       "      <td>-3.0</td>\n",
       "      <td>-1.0</td>\n",
       "      <td>-4.0</td>\n",
       "    </tr>\n",
       "    <tr>\n",
       "      <th>L</th>\n",
       "      <td>-1.0</td>\n",
       "      <td>-2.0</td>\n",
       "      <td>-3.0</td>\n",
       "      <td>-4.0</td>\n",
       "      <td>-1.0</td>\n",
       "      <td>-2.0</td>\n",
       "      <td>-3.0</td>\n",
       "      <td>-4.0</td>\n",
       "      <td>-3.0</td>\n",
       "      <td>2.0</td>\n",
       "      <td>...</td>\n",
       "      <td>-3.0</td>\n",
       "      <td>-2.0</td>\n",
       "      <td>-1.0</td>\n",
       "      <td>-2.0</td>\n",
       "      <td>-1.0</td>\n",
       "      <td>1.0</td>\n",
       "      <td>-4.0</td>\n",
       "      <td>-3.0</td>\n",
       "      <td>-1.0</td>\n",
       "      <td>-4.0</td>\n",
       "    </tr>\n",
       "    <tr>\n",
       "      <th>K</th>\n",
       "      <td>-1.0</td>\n",
       "      <td>2.0</td>\n",
       "      <td>0.0</td>\n",
       "      <td>-1.0</td>\n",
       "      <td>-3.0</td>\n",
       "      <td>1.0</td>\n",
       "      <td>1.0</td>\n",
       "      <td>-2.0</td>\n",
       "      <td>-1.0</td>\n",
       "      <td>-3.0</td>\n",
       "      <td>...</td>\n",
       "      <td>-1.0</td>\n",
       "      <td>0.0</td>\n",
       "      <td>-1.0</td>\n",
       "      <td>-3.0</td>\n",
       "      <td>-2.0</td>\n",
       "      <td>-2.0</td>\n",
       "      <td>0.0</td>\n",
       "      <td>1.0</td>\n",
       "      <td>-1.0</td>\n",
       "      <td>-4.0</td>\n",
       "    </tr>\n",
       "    <tr>\n",
       "      <th>M</th>\n",
       "      <td>-1.0</td>\n",
       "      <td>-1.0</td>\n",
       "      <td>-2.0</td>\n",
       "      <td>-3.0</td>\n",
       "      <td>-1.0</td>\n",
       "      <td>0.0</td>\n",
       "      <td>-2.0</td>\n",
       "      <td>-3.0</td>\n",
       "      <td>-2.0</td>\n",
       "      <td>1.0</td>\n",
       "      <td>...</td>\n",
       "      <td>-2.0</td>\n",
       "      <td>-1.0</td>\n",
       "      <td>-1.0</td>\n",
       "      <td>-1.0</td>\n",
       "      <td>-1.0</td>\n",
       "      <td>1.0</td>\n",
       "      <td>-3.0</td>\n",
       "      <td>-1.0</td>\n",
       "      <td>-1.0</td>\n",
       "      <td>-4.0</td>\n",
       "    </tr>\n",
       "    <tr>\n",
       "      <th>F</th>\n",
       "      <td>-2.0</td>\n",
       "      <td>-3.0</td>\n",
       "      <td>-3.0</td>\n",
       "      <td>-3.0</td>\n",
       "      <td>-2.0</td>\n",
       "      <td>-3.0</td>\n",
       "      <td>-3.0</td>\n",
       "      <td>-3.0</td>\n",
       "      <td>-1.0</td>\n",
       "      <td>0.0</td>\n",
       "      <td>...</td>\n",
       "      <td>-4.0</td>\n",
       "      <td>-2.0</td>\n",
       "      <td>-2.0</td>\n",
       "      <td>1.0</td>\n",
       "      <td>3.0</td>\n",
       "      <td>-1.0</td>\n",
       "      <td>-3.0</td>\n",
       "      <td>-3.0</td>\n",
       "      <td>-1.0</td>\n",
       "      <td>-4.0</td>\n",
       "    </tr>\n",
       "    <tr>\n",
       "      <th>P</th>\n",
       "      <td>-1.0</td>\n",
       "      <td>-2.0</td>\n",
       "      <td>-2.0</td>\n",
       "      <td>-1.0</td>\n",
       "      <td>-3.0</td>\n",
       "      <td>-1.0</td>\n",
       "      <td>-1.0</td>\n",
       "      <td>-2.0</td>\n",
       "      <td>-2.0</td>\n",
       "      <td>-3.0</td>\n",
       "      <td>...</td>\n",
       "      <td>7.0</td>\n",
       "      <td>-1.0</td>\n",
       "      <td>-1.0</td>\n",
       "      <td>-4.0</td>\n",
       "      <td>-3.0</td>\n",
       "      <td>-2.0</td>\n",
       "      <td>-2.0</td>\n",
       "      <td>-1.0</td>\n",
       "      <td>-2.0</td>\n",
       "      <td>-4.0</td>\n",
       "    </tr>\n",
       "    <tr>\n",
       "      <th>S</th>\n",
       "      <td>1.0</td>\n",
       "      <td>-1.0</td>\n",
       "      <td>1.0</td>\n",
       "      <td>0.0</td>\n",
       "      <td>-1.0</td>\n",
       "      <td>0.0</td>\n",
       "      <td>0.0</td>\n",
       "      <td>0.0</td>\n",
       "      <td>-1.0</td>\n",
       "      <td>-2.0</td>\n",
       "      <td>...</td>\n",
       "      <td>-1.0</td>\n",
       "      <td>4.0</td>\n",
       "      <td>1.0</td>\n",
       "      <td>-3.0</td>\n",
       "      <td>-2.0</td>\n",
       "      <td>-2.0</td>\n",
       "      <td>0.0</td>\n",
       "      <td>0.0</td>\n",
       "      <td>0.0</td>\n",
       "      <td>-4.0</td>\n",
       "    </tr>\n",
       "    <tr>\n",
       "      <th>T</th>\n",
       "      <td>0.0</td>\n",
       "      <td>-1.0</td>\n",
       "      <td>0.0</td>\n",
       "      <td>-1.0</td>\n",
       "      <td>-1.0</td>\n",
       "      <td>-1.0</td>\n",
       "      <td>-1.0</td>\n",
       "      <td>-2.0</td>\n",
       "      <td>-2.0</td>\n",
       "      <td>-1.0</td>\n",
       "      <td>...</td>\n",
       "      <td>-1.0</td>\n",
       "      <td>1.0</td>\n",
       "      <td>5.0</td>\n",
       "      <td>-2.0</td>\n",
       "      <td>-2.0</td>\n",
       "      <td>0.0</td>\n",
       "      <td>-1.0</td>\n",
       "      <td>-1.0</td>\n",
       "      <td>0.0</td>\n",
       "      <td>-4.0</td>\n",
       "    </tr>\n",
       "    <tr>\n",
       "      <th>W</th>\n",
       "      <td>-3.0</td>\n",
       "      <td>-3.0</td>\n",
       "      <td>-4.0</td>\n",
       "      <td>-4.0</td>\n",
       "      <td>-2.0</td>\n",
       "      <td>-2.0</td>\n",
       "      <td>-3.0</td>\n",
       "      <td>-2.0</td>\n",
       "      <td>-2.0</td>\n",
       "      <td>-3.0</td>\n",
       "      <td>...</td>\n",
       "      <td>-4.0</td>\n",
       "      <td>-3.0</td>\n",
       "      <td>-2.0</td>\n",
       "      <td>11.0</td>\n",
       "      <td>2.0</td>\n",
       "      <td>-3.0</td>\n",
       "      <td>-4.0</td>\n",
       "      <td>-3.0</td>\n",
       "      <td>-2.0</td>\n",
       "      <td>-4.0</td>\n",
       "    </tr>\n",
       "    <tr>\n",
       "      <th>Y</th>\n",
       "      <td>-2.0</td>\n",
       "      <td>-2.0</td>\n",
       "      <td>-2.0</td>\n",
       "      <td>-3.0</td>\n",
       "      <td>-2.0</td>\n",
       "      <td>-1.0</td>\n",
       "      <td>-2.0</td>\n",
       "      <td>-3.0</td>\n",
       "      <td>2.0</td>\n",
       "      <td>-1.0</td>\n",
       "      <td>...</td>\n",
       "      <td>-3.0</td>\n",
       "      <td>-2.0</td>\n",
       "      <td>-2.0</td>\n",
       "      <td>2.0</td>\n",
       "      <td>7.0</td>\n",
       "      <td>-1.0</td>\n",
       "      <td>-3.0</td>\n",
       "      <td>-2.0</td>\n",
       "      <td>-1.0</td>\n",
       "      <td>-4.0</td>\n",
       "    </tr>\n",
       "    <tr>\n",
       "      <th>V</th>\n",
       "      <td>0.0</td>\n",
       "      <td>-3.0</td>\n",
       "      <td>-3.0</td>\n",
       "      <td>-3.0</td>\n",
       "      <td>-1.0</td>\n",
       "      <td>-2.0</td>\n",
       "      <td>-2.0</td>\n",
       "      <td>-3.0</td>\n",
       "      <td>-3.0</td>\n",
       "      <td>3.0</td>\n",
       "      <td>...</td>\n",
       "      <td>-2.0</td>\n",
       "      <td>-2.0</td>\n",
       "      <td>0.0</td>\n",
       "      <td>-3.0</td>\n",
       "      <td>-1.0</td>\n",
       "      <td>4.0</td>\n",
       "      <td>-3.0</td>\n",
       "      <td>-2.0</td>\n",
       "      <td>-1.0</td>\n",
       "      <td>-4.0</td>\n",
       "    </tr>\n",
       "    <tr>\n",
       "      <th>B</th>\n",
       "      <td>-2.0</td>\n",
       "      <td>-1.0</td>\n",
       "      <td>3.0</td>\n",
       "      <td>4.0</td>\n",
       "      <td>-3.0</td>\n",
       "      <td>0.0</td>\n",
       "      <td>1.0</td>\n",
       "      <td>-1.0</td>\n",
       "      <td>0.0</td>\n",
       "      <td>-3.0</td>\n",
       "      <td>...</td>\n",
       "      <td>-2.0</td>\n",
       "      <td>0.0</td>\n",
       "      <td>-1.0</td>\n",
       "      <td>-4.0</td>\n",
       "      <td>-3.0</td>\n",
       "      <td>-3.0</td>\n",
       "      <td>4.0</td>\n",
       "      <td>1.0</td>\n",
       "      <td>-1.0</td>\n",
       "      <td>-4.0</td>\n",
       "    </tr>\n",
       "    <tr>\n",
       "      <th>Z</th>\n",
       "      <td>-1.0</td>\n",
       "      <td>0.0</td>\n",
       "      <td>0.0</td>\n",
       "      <td>1.0</td>\n",
       "      <td>-3.0</td>\n",
       "      <td>3.0</td>\n",
       "      <td>4.0</td>\n",
       "      <td>-2.0</td>\n",
       "      <td>0.0</td>\n",
       "      <td>-3.0</td>\n",
       "      <td>...</td>\n",
       "      <td>-1.0</td>\n",
       "      <td>0.0</td>\n",
       "      <td>-1.0</td>\n",
       "      <td>-3.0</td>\n",
       "      <td>-2.0</td>\n",
       "      <td>-2.0</td>\n",
       "      <td>1.0</td>\n",
       "      <td>4.0</td>\n",
       "      <td>-1.0</td>\n",
       "      <td>-4.0</td>\n",
       "    </tr>\n",
       "    <tr>\n",
       "      <th>X</th>\n",
       "      <td>0.0</td>\n",
       "      <td>-1.0</td>\n",
       "      <td>-1.0</td>\n",
       "      <td>-1.0</td>\n",
       "      <td>-2.0</td>\n",
       "      <td>-1.0</td>\n",
       "      <td>-1.0</td>\n",
       "      <td>-1.0</td>\n",
       "      <td>-1.0</td>\n",
       "      <td>-1.0</td>\n",
       "      <td>...</td>\n",
       "      <td>-2.0</td>\n",
       "      <td>0.0</td>\n",
       "      <td>0.0</td>\n",
       "      <td>-2.0</td>\n",
       "      <td>-1.0</td>\n",
       "      <td>-1.0</td>\n",
       "      <td>-1.0</td>\n",
       "      <td>-1.0</td>\n",
       "      <td>-1.0</td>\n",
       "      <td>-4.0</td>\n",
       "    </tr>\n",
       "    <tr>\n",
       "      <th>*</th>\n",
       "      <td>-4.0</td>\n",
       "      <td>-4.0</td>\n",
       "      <td>-4.0</td>\n",
       "      <td>-4.0</td>\n",
       "      <td>-4.0</td>\n",
       "      <td>-4.0</td>\n",
       "      <td>-4.0</td>\n",
       "      <td>-4.0</td>\n",
       "      <td>-4.0</td>\n",
       "      <td>-4.0</td>\n",
       "      <td>...</td>\n",
       "      <td>-4.0</td>\n",
       "      <td>-4.0</td>\n",
       "      <td>-4.0</td>\n",
       "      <td>-4.0</td>\n",
       "      <td>-4.0</td>\n",
       "      <td>-4.0</td>\n",
       "      <td>-4.0</td>\n",
       "      <td>-4.0</td>\n",
       "      <td>-4.0</td>\n",
       "      <td>1.0</td>\n",
       "    </tr>\n",
       "  </tbody>\n",
       "</table>\n",
       "<p>24 rows × 24 columns</p>\n",
       "</div>"
      ],
      "text/plain": [
       "     A    R    N    D    C    Q    E    G    H    I  ...    P    S    T     W  \\\n",
       "A  4.0 -1.0 -2.0 -2.0  0.0 -1.0 -1.0  0.0 -2.0 -1.0  ... -1.0  1.0  0.0  -3.0   \n",
       "R -1.0  5.0  0.0 -2.0 -3.0  1.0  0.0 -2.0  0.0 -3.0  ... -2.0 -1.0 -1.0  -3.0   \n",
       "N -2.0  0.0  6.0  1.0 -3.0  0.0  0.0  0.0  1.0 -3.0  ... -2.0  1.0  0.0  -4.0   \n",
       "D -2.0 -2.0  1.0  6.0 -3.0  0.0  2.0 -1.0 -1.0 -3.0  ... -1.0  0.0 -1.0  -4.0   \n",
       "C  0.0 -3.0 -3.0 -3.0  9.0 -3.0 -4.0 -3.0 -3.0 -1.0  ... -3.0 -1.0 -1.0  -2.0   \n",
       "Q -1.0  1.0  0.0  0.0 -3.0  5.0  2.0 -2.0  0.0 -3.0  ... -1.0  0.0 -1.0  -2.0   \n",
       "E -1.0  0.0  0.0  2.0 -4.0  2.0  5.0 -2.0  0.0 -3.0  ... -1.0  0.0 -1.0  -3.0   \n",
       "G  0.0 -2.0  0.0 -1.0 -3.0 -2.0 -2.0  6.0 -2.0 -4.0  ... -2.0  0.0 -2.0  -2.0   \n",
       "H -2.0  0.0  1.0 -1.0 -3.0  0.0  0.0 -2.0  8.0 -3.0  ... -2.0 -1.0 -2.0  -2.0   \n",
       "I -1.0 -3.0 -3.0 -3.0 -1.0 -3.0 -3.0 -4.0 -3.0  4.0  ... -3.0 -2.0 -1.0  -3.0   \n",
       "L -1.0 -2.0 -3.0 -4.0 -1.0 -2.0 -3.0 -4.0 -3.0  2.0  ... -3.0 -2.0 -1.0  -2.0   \n",
       "K -1.0  2.0  0.0 -1.0 -3.0  1.0  1.0 -2.0 -1.0 -3.0  ... -1.0  0.0 -1.0  -3.0   \n",
       "M -1.0 -1.0 -2.0 -3.0 -1.0  0.0 -2.0 -3.0 -2.0  1.0  ... -2.0 -1.0 -1.0  -1.0   \n",
       "F -2.0 -3.0 -3.0 -3.0 -2.0 -3.0 -3.0 -3.0 -1.0  0.0  ... -4.0 -2.0 -2.0   1.0   \n",
       "P -1.0 -2.0 -2.0 -1.0 -3.0 -1.0 -1.0 -2.0 -2.0 -3.0  ...  7.0 -1.0 -1.0  -4.0   \n",
       "S  1.0 -1.0  1.0  0.0 -1.0  0.0  0.0  0.0 -1.0 -2.0  ... -1.0  4.0  1.0  -3.0   \n",
       "T  0.0 -1.0  0.0 -1.0 -1.0 -1.0 -1.0 -2.0 -2.0 -1.0  ... -1.0  1.0  5.0  -2.0   \n",
       "W -3.0 -3.0 -4.0 -4.0 -2.0 -2.0 -3.0 -2.0 -2.0 -3.0  ... -4.0 -3.0 -2.0  11.0   \n",
       "Y -2.0 -2.0 -2.0 -3.0 -2.0 -1.0 -2.0 -3.0  2.0 -1.0  ... -3.0 -2.0 -2.0   2.0   \n",
       "V  0.0 -3.0 -3.0 -3.0 -1.0 -2.0 -2.0 -3.0 -3.0  3.0  ... -2.0 -2.0  0.0  -3.0   \n",
       "B -2.0 -1.0  3.0  4.0 -3.0  0.0  1.0 -1.0  0.0 -3.0  ... -2.0  0.0 -1.0  -4.0   \n",
       "Z -1.0  0.0  0.0  1.0 -3.0  3.0  4.0 -2.0  0.0 -3.0  ... -1.0  0.0 -1.0  -3.0   \n",
       "X  0.0 -1.0 -1.0 -1.0 -2.0 -1.0 -1.0 -1.0 -1.0 -1.0  ... -2.0  0.0  0.0  -2.0   \n",
       "* -4.0 -4.0 -4.0 -4.0 -4.0 -4.0 -4.0 -4.0 -4.0 -4.0  ... -4.0 -4.0 -4.0  -4.0   \n",
       "\n",
       "     Y    V    B    Z    X    *  \n",
       "A -2.0  0.0 -2.0 -1.0  0.0 -4.0  \n",
       "R -2.0 -3.0 -1.0  0.0 -1.0 -4.0  \n",
       "N -2.0 -3.0  3.0  0.0 -1.0 -4.0  \n",
       "D -3.0 -3.0  4.0  1.0 -1.0 -4.0  \n",
       "C -2.0 -1.0 -3.0 -3.0 -2.0 -4.0  \n",
       "Q -1.0 -2.0  0.0  3.0 -1.0 -4.0  \n",
       "E -2.0 -2.0  1.0  4.0 -1.0 -4.0  \n",
       "G -3.0 -3.0 -1.0 -2.0 -1.0 -4.0  \n",
       "H  2.0 -3.0  0.0  0.0 -1.0 -4.0  \n",
       "I -1.0  3.0 -3.0 -3.0 -1.0 -4.0  \n",
       "L -1.0  1.0 -4.0 -3.0 -1.0 -4.0  \n",
       "K -2.0 -2.0  0.0  1.0 -1.0 -4.0  \n",
       "M -1.0  1.0 -3.0 -1.0 -1.0 -4.0  \n",
       "F  3.0 -1.0 -3.0 -3.0 -1.0 -4.0  \n",
       "P -3.0 -2.0 -2.0 -1.0 -2.0 -4.0  \n",
       "S -2.0 -2.0  0.0  0.0  0.0 -4.0  \n",
       "T -2.0  0.0 -1.0 -1.0  0.0 -4.0  \n",
       "W  2.0 -3.0 -4.0 -3.0 -2.0 -4.0  \n",
       "Y  7.0 -1.0 -3.0 -2.0 -1.0 -4.0  \n",
       "V -1.0  4.0 -3.0 -2.0 -1.0 -4.0  \n",
       "B -3.0 -3.0  4.0  1.0 -1.0 -4.0  \n",
       "Z -2.0 -2.0  1.0  4.0 -1.0 -4.0  \n",
       "X -1.0 -1.0 -1.0 -1.0 -1.0 -4.0  \n",
       "* -4.0 -4.0 -4.0 -4.0 -4.0  1.0  \n",
       "\n",
       "[24 rows x 24 columns]"
      ]
     },
     "execution_count": 23,
     "metadata": {},
     "output_type": "execute_result"
    }
   ],
   "source": [
    "import pandas\n",
    "pandas.DataFrame(subst_mat, list(subst_mat.alphabet), list(subst_mat.alphabet))"
   ]
  },
  {
   "cell_type": "markdown",
   "metadata": {},
   "source": [
    "Now, modify the nw function to use the substitution matrix"
   ]
  },
  {
   "cell_type": "code",
   "execution_count": 24,
   "metadata": {
    "tags": []
   },
   "outputs": [],
   "source": [
    "# Paste the nw function here and modify it (or use it in a separate script)\n",
    "def nw_substmat(seq_i, seq_j, gep):\n",
    "    score_mat = [[0 for j in range(len(seq_j) + 1)] for i in range(len(seq_i) + 1)]\n",
    "    traceback = [[0 for j in range(len(seq_j) + 1)] for i in range(len(seq_i) + 1)]\n",
    "\n",
    "    for i in range(0, len(seq_i) + 1):\n",
    "        score_mat[i][0] = i * gep\n",
    "        traceback[i][0] = 1\n",
    "\n",
    "    for j in range(0, len(seq_j) + 1):\n",
    "        score_mat[0][j] =j * gep\n",
    "        traceback[0][j] = -1\n",
    "\n",
    "    for i in range(1, len(seq_i) + 1):\n",
    "        for j in range(1, len(seq_j) + 1):\n",
    "            # change in next line\n",
    "            subst = score_mat[i - 1][j - 1] + subst_mat[seq_i[i - 1]][seq_j[j - 1]]\n",
    "            delet = score_mat[i][j - 1] + gep\n",
    "            inser = score_mat[i - 1][j] + gep\n",
    "\n",
    "            if subst >= delet and subst >= inser:\n",
    "                score_mat[i][j] = subst\n",
    "                traceback[i][j] = 0\n",
    "            elif delet >= inser:\n",
    "                score_mat[i][j] = delet\n",
    "                traceback[i][j] = -1\n",
    "            else:\n",
    "                score_mat[i][j] = inser\n",
    "                traceback[i][j] = 1\n",
    "\n",
    "    print(\"score:\", score_mat[-1][-1], '\\n')\n",
    "    i = len(seq_i)\n",
    "    j = len(seq_j)\n",
    "    aln_i = []\n",
    "    aln_j = []\n",
    "\n",
    "    while i != 0 or j != 0:\n",
    "        if traceback[i][j] == 0:\n",
    "            i -= 1\n",
    "            j -= 1\n",
    "            aln_i.append(seq_i[i])\n",
    "            aln_j.append(seq_j[j])\n",
    "        elif traceback[i][j] == -1:\n",
    "            j -= 1\n",
    "            aln_i.append(\"-\")\n",
    "            aln_j.append(seq_j[j])\n",
    "        else:\n",
    "            i -= 1\n",
    "            aln_i.append(seq_i[i])\n",
    "            aln_j.append(\"-\")\n",
    "\n",
    "    seq_i_aln = \"\".join(reversed(aln_i))\n",
    "    seq_j_aln = \"\".join(reversed(aln_j))\n",
    "\n",
    "    return (seq_i_aln, seq_j_aln)"
   ]
  },
  {
   "cell_type": "markdown",
   "metadata": {},
   "source": [
    "Run the function"
   ]
  },
  {
   "cell_type": "code",
   "execution_count": 25,
   "metadata": {},
   "outputs": [
    {
     "name": "stdout",
     "output_type": "stream",
     "text": [
      "score: 10.0 \n",
      "\n",
      "THEFASTCAT\n",
      "THE---R-AT\n"
     ]
    }
   ],
   "source": [
    "aln = nw_substmat(seq1, seq2, gep)\n",
    "print(aln[0])\n",
    "print(aln[1])"
   ]
  },
  {
   "cell_type": "markdown",
   "metadata": {},
   "source": [
    "## Exercise: real sequences (I)"
   ]
  },
  {
   "cell_type": "markdown",
   "metadata": {},
   "source": [
    "Let's use the algorithm with real sequences. Align the first two sequences in *ppar.fasta*."
   ]
  },
  {
   "cell_type": "code",
   "execution_count": 26,
   "metadata": {},
   "outputs": [
    {
     "name": "stdout",
     "output_type": "stream",
     "text": [
      "score: 1456.0 \n",
      "\n",
      "sp|Q07869|PPARA_HUMAN \n",
      " MVDTESPLCPLSPLEAGDLESPLSEEFLQEMGNIQEISQSIGEDSSGSFGFTEYQYLGSCPGSDGSVITDTLSPASSPSSVTYPVVPGSVDESPSGALNIECRICGDKASGYHYGVHACEGCKGFFRRTIRLKLVYDKCDRSCKIQKKNRNKCQYCRFHKCLSVGMSHNAIRFGRMPRSEKAKLKAEILTCEHDIE-DSETADLKSLAKRIYEAYLKNFNMNKVKARVILSGKASNNPPFVIHDMETLCMAEKTLVAK-LVANGI-QNKEAEVRIFHCCQCTSVETVTELTEFAKAIPGFANLDLNDQVTLLKYGVYEAIFAMLSSVMNKDGMLVAYGNGFITREFLKSLRKPFCDIMEPKFDFAMKFNALELDDSDISLFVAAIICCGDRPGLLNVGHIEKMQEGIVHVLRLHLQSNHPDDIFLFPKLLQKMADLRQLVTEHAQLVQIIKKTESDAALHPLLQEIYRDMY\n",
      "sp|Q03181|PPARD_HUMAN \n",
      " M---EQPQ-EEAP-EVRE-E----EE--KE--EVAE-AEGAPE-LNG--G--P-QH--ALP-S-SS-YTD-LSRSSSPPSLLDQLQMG-CDGASCGSLNMECRVCGDKASGFHYGVHACEGCKGFFRRTIRMKLEYEKCERSCKIQKKNRNKCQYCRFQKCLALGMSHNAIRFGRMPEAEKRKLVAG-LTANEGSQYNPQVADLKAFSKHIYNAYLKNFNMTKKKARSILTGKASHTAPFVIHDIETLWQAEKGLVWKQLV-NGLPPYKEISVHVFYRCQCTTVETVRELTEFAKSIPSFSSLFLNDQVTLLKYGVHEAIFAMLASIVNKDGLLVANGSGFVTREFLRSLRKPFSDIIEPKFEFAVKFNALELDDSDLALFIAAIILCGDRPGLMNVPRVEAIQDTILRALEFHLQANHPDAQYLFPKLLQKMADLRQLVTEHAQMMQRIKKTETETSLHPLLQEIYKDMY\n"
     ]
    }
   ],
   "source": [
    "from Bio import SeqIO\n",
    "records = list(SeqIO.parse(\"ppar.fasta\", \"fasta\"))\n",
    "seq0 = records[0].seq\n",
    "seq1 = records[1].seq\n",
    "id0 = records[0].id\n",
    "id1 = records[1].id\n",
    "aln = nw_substmat(seq0, seq1, -4)\n",
    "print(id0, '\\n', aln[0])\n",
    "print(id1, '\\n', aln[1])"
   ]
  },
  {
   "cell_type": "markdown",
   "metadata": {},
   "source": [
    "Let's save the alignment in Clustal format as it will allow us to see the alignment clearly. Fill the gaps:"
   ]
  },
  {
   "cell_type": "code",
   "execution_count": 27,
   "metadata": {},
   "outputs": [],
   "source": [
    "from Bio.Seq import Seq\n",
    "from Bio.SeqRecord import SeqRecord\n",
    "\n",
    "out_records = [\n",
    "    SeqRecord(\n",
    "    Seq(aln[0]),\n",
    "    id=id0,\n",
    "    description=\"\",\n",
    "    ),\n",
    "    SeqRecord(\n",
    "    Seq(aln[1]),\n",
    "    id=id1,\n",
    "    description=\"\",\n",
    "),\n",
    "    ] \n",
    "with open(\"ppar.aln\", \"w\") as fname_out:\n",
    "    SeqIO.write(out_records, fname_out, \"clustal\")"
   ]
  },
  {
   "cell_type": "markdown",
   "metadata": {},
   "source": [
    "## Exercise: real sequences (II)"
   ]
  },
  {
   "cell_type": "markdown",
   "metadata": {},
   "source": [
    "Write a code that takes 2 sequences from *ppar.fasta* using the Uniprot Entry name (part of the header) and aligns them."
   ]
  },
  {
   "cell_type": "code",
   "execution_count": 28,
   "metadata": {},
   "outputs": [
    {
     "name": "stdout",
     "output_type": "stream",
     "text": [
      "score: 876.0 \n",
      "\n",
      "sp|P37233|PPARD_XENLA \n",
      " M-K---------E--------------E---I----P--P----------------------R----------S-P----I-------L------D----E-Q------P-STP-------L--E-HQETSQS---VDCKICGDRASGFHYGVHACEGCKGFFRRTIRMRLQYEHCDRNCKIQKKNRNKCQYCRFNKCLSLGMSHNAIRFGRMPESEKRKLVQAPV-SD-SAA-PDSPVSDLDVLSQLIHSSYMNTFTMTKKRARDILTGRNS-ISPFVIHDMDTLWQAEQGTVWEQL-PTQNLTGTEIGVHVFYRCQCTSVETVRALTDFAKRIPGFGTLYLNDQVTLLKYGVHEAIFCMLASLMNKDGLLVAGGRGFVTREFLRSLRQPFCHIMEPKFHFASKFNALELNDSDLALFVASIILCGDRPGLINPSQVEDIQEGILGALRRHLKASHTDAPFLFPKLLHKMADLRQLVTEHAELVQSIKRTESSAALHPLLQEIYRDMY\n",
      "sp|Q4U3Q4|PPARG_CANLF \n",
      " MGETLGDSLIDPESDSFADTLSASTSQETTMVDTEMPFWPTNFGISSVDLSVMDDHSHSFDIKPFTTVDFSSISTPHYEDIPFSRADPMVADYKYDLKLQEYQSAIKVEPASPPYYSEKTQLYNKPHEEPSNSLMAIECRVCGDKASGFHYGVHACEGCKGFFRRTIRLKLIYDRCDLNCRIHKKSRNKCQYCRFQKCLAVGMSHNAIRFGRMPQAEKEKLL-AEISSDIDQLNPES--ADLRALAKHLYDSYIKSFPLTKAKARAILTGKTTDKSPFVIYDMNSLMMGEDKIKFKHITPLQE-QSKEVAIRIFQGCQFRSVEAVQEITEYAKSIPGFVNLDLNDQVTLLKYGVHEIIYTMLASLMNKDGVLISEGQGFMTREFLKSLRKPFGDFMEPKFEFAVKFNALELDDSDLAIFIAVIILSGDRPGLLNVKPIEDIQDNLLQALELQLKLNHPESSQLFAKLLQKMTDLRQIVTEHVQLLQVIKKTETDMSLHPLLQEIYKDLY\n"
     ]
    }
   ],
   "source": [
    "records = SeqIO.parse(\"ppar.fasta\", \"fasta\")\n",
    "\n",
    "def align_2seqs(uniprot1, uniprot2, gep):\n",
    "    found_pair = []\n",
    "    for record in records: \n",
    "        if len(found_pair) != 2:\n",
    "            if uniprot1 in record.id:\n",
    "                seq1 = record.seq\n",
    "                id1 = record.id\n",
    "                found_pair.append(id1)\n",
    "            if uniprot2 in record.id:\n",
    "                seq2 = record.seq\n",
    "                id2 = record.id\n",
    "                found_pair.append(id2)\n",
    "    aln = nw_substmat(seq1, seq2, gep)\n",
    "    print(id1, '\\n', aln[0])\n",
    "    print(id2, '\\n', aln[1])\n",
    "\n",
    "align_2seqs('PPARD_XENLA', 'PPARG_CANLF', -4)"
   ]
  },
  {
   "cell_type": "markdown",
   "metadata": {},
   "source": [
    "## Exercise: real sequences (III)"
   ]
  },
  {
   "cell_type": "markdown",
   "metadata": {},
   "source": [
    "Modify *align_2seqs* to save the alignment in a file"
   ]
  },
  {
   "cell_type": "code",
   "execution_count": 29,
   "metadata": {},
   "outputs": [
    {
     "name": "stdout",
     "output_type": "stream",
     "text": [
      "score: 876.0 \n",
      "\n"
     ]
    }
   ],
   "source": [
    "records = SeqIO.parse(\"ppar.fasta\", \"fasta\")\n",
    "\n",
    "def save_aln(seq1_aln, name1, seq2_aln, name2, out_file):\n",
    "    out_records = [\n",
    "        SeqRecord(\n",
    "        Seq(seq1_aln),\n",
    "        id=name1,\n",
    "        description=\"\",\n",
    "        ),\n",
    "        SeqRecord(\n",
    "        Seq(seq2_aln),\n",
    "        id=name2,\n",
    "        description=\"\",\n",
    "    ),\n",
    "        ] \n",
    "    with open(out_file, \"w\") as fname_out:\n",
    "        SeqIO.write(out_records, fname_out, \"clustal\")\n",
    "\n",
    "        \n",
    "def align_2seqs(uniprot1, uniprot2, gep, out_file):\n",
    "    found_pair = False\n",
    "    for record in records: \n",
    "        if not found_pair:\n",
    "            if uniprot1 in record.id:\n",
    "                seq1 = record.seq\n",
    "                id1 = record.id\n",
    "            if uniprot2 in record.id:\n",
    "                seq2 = record.seq\n",
    "                id2 = record.id\n",
    "    aln = nw_substmat(seq1, seq2, gep)\n",
    "    save_aln(aln[0], id1, aln[1], id2, out_file)\n",
    "\n",
    "align_2seqs('PPARD_XENLA', 'PPARG_CANLF', -4, 'ppar.aln')"
   ]
  },
  {
   "cell_type": "code",
   "execution_count": null,
   "metadata": {},
   "outputs": [],
   "source": []
  }
 ],
 "metadata": {
  "kernelspec": {
   "display_name": "Python 3",
   "language": "python",
   "name": "python3"
  },
  "language_info": {
   "codemirror_mode": {
    "name": "ipython",
    "version": 3
   },
   "file_extension": ".py",
   "mimetype": "text/x-python",
   "name": "python",
   "nbconvert_exporter": "python",
   "pygments_lexer": "ipython3",
   "version": "3.8.3"
  }
 },
 "nbformat": 4,
 "nbformat_minor": 5
}
