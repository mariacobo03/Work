{
 "cells": [
  {
   "cell_type": "markdown",
   "metadata": {},
   "source": [
    "**Name:** <span style=\"color:red\">Maria Cobo and Alba Mas</span>"
   ]
  },
  {
   "cell_type": "markdown",
   "metadata": {},
   "source": [
    "# SYSTEMS AND NETWORK BIOLOGY - PRACTICAL 4\n",
    "\n",
    "# Positive feedback\n"
   ]
  },
  {
   "cell_type": "markdown",
   "metadata": {},
   "source": [
    "---\n",
    "\n",
    "To submit your report, answer the questions below and save the *notebook* clicking on `File > Download as > iPython Notebook` in the menu at the top of the page. **Rename the notebook file** to ''`practicalN_name1_name2.ipynb`'', where `N` is the number of the practical, and `name1` and `name2` are the first surnames of the two team members (only one name if the report is sent individually). Finally, **submit the resulting file through the *Aula ESCI***.\n",
    "\n",
    "Remember to label the axes in all the plots.\n",
    "\n",
    "*IMPORTANT REMINDER: Before the final submission, remember to **reset the kernel** and re-run the whole notebook again to check that it works.*\n",
    "\n",
    "---"
   ]
  },
  {
   "cell_type": "markdown",
   "metadata": {},
   "source": [
    "The objective of this practical is to explore the behaviour of a system with a positive feedback motif. In particular, we will use numerical integration of an ordinary differential equation model to analyze the behavior of a phosphorylation/dephosphorylation cycle as the kinase concentration (acting as input signal) is cycled from a low to a high level and back."
   ]
  },
  {
   "cell_type": "markdown",
   "metadata": {},
   "source": [
    "Consider the phosphorylation/dephosphorylation cycle shown in the figure\n",
    "below, in which phosphorylation is induced by both a stimulus signal\n",
    "$S$ and by the phosphorylated protein itself, in the form of a positive\n",
    "feedback loop. Assuming that the latter process is cooperative, the\n",
    "model of this system can be written as:\n",
    "\n",
    "<img style=\"margin: 20px; float: right\" src=\"http://dsb.upf.edu/biocomp/figs/irrevers.png\" width=\"15%\"/>\n",
    "\n",
    "$$\\frac{dA_p}{dt}=k_p SA+\\beta\\frac{A_p^n}{K^n+A_p^n}-k_dA_p$$\n",
    "\n",
    "where\n",
    "$k_p$ is the activation (phosphorylation) rate, $k_d$ is the\n",
    "inactivation (dephosphorylation) rate, $A$ is the concentration of the\n",
    "unphosphorylated protein, and $A_p$ is the concentration of the\n",
    "phosphorylated protein.\n",
    "We will assume that the total protein concentration, $A_T=A+A_p$, is\n",
    "constant. We will consider the following parameter values: $K=50$,\n",
    "$A_T=100$, $k_d=0.11$, $\\beta=10$, $k_p=0.1$, and $n=4$."
   ]
  },
  {
   "cell_type": "code",
   "execution_count": 56,
   "metadata": {},
   "outputs": [],
   "source": [
    "import numpy as np\n",
    "from scipy.integrate import odeint\n",
    "import matplotlib.pyplot as plt\n",
    "%matplotlib inline"
   ]
  },
  {
   "cell_type": "code",
   "execution_count": 57,
   "metadata": {},
   "outputs": [],
   "source": [
    "# Write your code here\n",
    "K=50\n",
    "At=100\n",
    "kd = 0.11\n",
    "beta=10\n",
    "kp=0.1\n",
    "n=4"
   ]
  },
  {
   "cell_type": "markdown",
   "metadata": {},
   "source": [
    "First, integrate numerically, up to $t=100$, the differential equation\n",
    "above for a low (basal) stimulus level, such as $S=0.01$, assuming\n",
    "that initially the protein is completely unphosphorylated."
   ]
  },
  {
   "cell_type": "code",
   "execution_count": 58,
   "metadata": {},
   "outputs": [
    {
     "data": {
      "image/png": "[encoded data removed]",
      "text/plain": [
       "<Figure size 432x288 with 1 Axes>"
      ]
     },
     "metadata": {
      "needs_background": "light"
     },
     "output_type": "display_data"
    }
   ],
   "source": [
    "S=0.01\n",
    "\n",
    "def activation(Ap, t, K, At, kd, beta, kp, n, S):\n",
    "    A = At - Ap  # Unphosphorylated protein\n",
    "    dAp = kp * S * A + (beta * Ap**n / (K**n + Ap**n)) - kd * Ap\n",
    "    return dAp\n",
    "\n",
    "# Initial condition (initially all protein is unphosphorylated)\n",
    "Ap0 = 0 \n",
    "\n",
    "# Time points for integration\n",
    "t = np.linspace(0, 100, 1000)  # Time from 0 to 100 in 1000 steps\n",
    "\n",
    "# Solve the ODE\n",
    "Ap_solution = odeint(activation, Ap0, t, args=(K, At, kd, beta, kp, n, S))\n",
    "\n",
    "# Plot the results\n",
    "plt.plot(t, Ap_solution)\n",
    "plt.xlabel('Time')\n",
    "plt.ylabel('Concentration of phosphorylated protein (Ap)')\n",
    "plt.title('Kd=0.11, S=0.01')\n",
    "plt.show()"
   ]
  },
  {
   "cell_type": "markdown",
   "metadata": {},
   "source": [
    "---\n",
    "\n",
    "<span style=\"color:red\">Comment your result here</span>\n",
    "\n",
    "We can observe how the concentration of Ap increases until reaching it's maximum concentration (beta=10)\n",
    "\n",
    "---"
   ]
  },
  {
   "cell_type": "markdown",
   "metadata": {},
   "source": [
    "Nest, starting from the stationary situation obtained in the previous\n",
    "case, study the effect of suddenly applying a large stimulus signal,\n",
    "so that $S$ suddenly jumps to a high level, such as $S=1$."
   ]
  },
  {
   "cell_type": "code",
   "execution_count": 59,
   "metadata": {},
   "outputs": [
    {
     "data": {
      "image/png": "[encoded data removed]",
      "text/plain": [
       "<Figure size 432x288 with 1 Axes>"
      ]
     },
     "metadata": {
      "needs_background": "light"
     },
     "output_type": "display_data"
    }
   ],
   "source": [
    "S=1\n",
    "\n",
    "def activation(Ap, t, K, At, kd, beta, kp, n, S):\n",
    "    A = At - Ap  # Unphosphorylated protein\n",
    "    dAp = kp * S * A + (beta * Ap**n / (K**n + Ap**n)) - kd * Ap\n",
    "    return dAp\n",
    "\n",
    "# Initial condition (initially all protein is unphosphorylated)\n",
    "Ap0 = 0 \n",
    "\n",
    "# Time points for integration\n",
    "t = np.linspace(0, 100, 1000)  # Time from 0 to 100 in 1000 steps\n",
    "\n",
    "# Solve the ODE\n",
    "Ap_solution = odeint(activation, Ap0, t, args=(K, At, kd, beta, kp, n, S))\n",
    "\n",
    "# Plot the results\n",
    "plt.plot(t, Ap_solution)\n",
    "plt.xlabel('Time')\n",
    "plt.ylabel('Concentration of phosphorylated protein (Ap)')\n",
    "plt.title('Kd=0.11, S=1')\n",
    "plt.show()"
   ]
  },
  {
   "cell_type": "markdown",
   "metadata": {},
   "source": [
    "---\n",
    "\n",
    "<span style=\"color:red\">Comment your result here</span>\n",
    "\n",
    "We can see how by increasing S the curve is a little more sharp, the bigger is S the sharper the curve will be.\n",
    "\n",
    "---"
   ]
  },
  {
   "cell_type": "markdown",
   "metadata": {},
   "source": [
    "Next, starting from the latest stationary situation, integrate\n",
    "the equations again for $S=0.01$. Does the system go back to its\n",
    "original state?"
   ]
  },
  {
   "cell_type": "code",
   "execution_count": 60,
   "metadata": {},
   "outputs": [
    {
     "data": {
      "image/png": "[encoded data removed]",
      "text/plain": [
       "<Figure size 432x288 with 1 Axes>"
      ]
     },
     "metadata": {
      "needs_background": "light"
     },
     "output_type": "display_data"
    }
   ],
   "source": [
    "def activation(Ap, t, K, At, kd, beta, kp, n, S):\n",
    "    A = At - Ap  # Unphosphorylated protein\n",
    "    dAp = kp * S * A + (beta * Ap**n / (K**n + Ap**n)) - kd * Ap\n",
    "    return dAp\n",
    "\n",
    "# Initial condition (initially all protein is unphosphorylated)\n",
    "Ap0 = 0 \n",
    "\n",
    "# Time points for integration\n",
    "t = np.linspace(0, 100, 1000)  \n",
    "\n",
    "#Pashe 1\n",
    "S1 = 0.01\n",
    "Ap_solution1 = odeint(activation, Ap0, t, args=(K, At, kd, beta, kp, n, S1))\n",
    "\n",
    "# Phase 2: Sudden large stimulus (S = 1)\n",
    "S2 = 1\n",
    "Ap_solution2 = odeint(activation, Ap_solution1[-1], t, args=(K, At, kd, beta, kp, n, S2))\n",
    "\n",
    "\n",
    "# Phase 3: Return to low stimulus (S = 0.01) after a high stimulus phase\n",
    "Ap_solution3 = odeint(activation, Ap_solution2[-1], t, args=(K, At, kd, beta, kp, n, 0.01))\n",
    "\n",
    "# Plot the results for the third phase only\n",
    "plt.figure(figsize=(6, 4))\n",
    "plt.plot(t, Ap_solution3, label=r'$A_p$')\n",
    "plt.xlabel('time')\n",
    "plt.ylabel(r'$A_p$')\n",
    "plt.title(r'$k_d=0.11$, $S=0.01$')\n",
    "plt.xlim([0, 100])\n",
    "plt.ylim([0, 100])\n",
    "plt.show()"
   ]
  },
  {
   "cell_type": "markdown",
   "metadata": {},
   "source": [
    "---\n",
    "\n",
    "<span style=\"color:red\">Comment your result here</span>\n",
    "\n",
    "The system does not return to 0 because it's in the high-phosphorylation steady state due to bistability. We need to significantly reduce S to a value where the system prefers the low-phosphorylation state again. \n",
    "\n",
    "---"
   ]
  },
  {
   "cell_type": "markdown",
   "metadata": {},
   "source": [
    "Finally, continue further to $S=0$, thus eliminating the stimulus\n",
    "completely. Does the system now go back to its original\n",
    "state? "
   ]
  },
  {
   "cell_type": "code",
   "execution_count": 61,
   "metadata": {},
   "outputs": [
    {
     "data": {
      "image/png": "[encoded data removed]",
      "text/plain": [
       "<Figure size 432x288 with 1 Axes>"
      ]
     },
     "metadata": {
      "needs_background": "light"
     },
     "output_type": "display_data"
    }
   ],
   "source": [
    "def activation(Ap, t, K, At, kd, beta, kp, n, S):\n",
    "    A = At - Ap  # Unphosphorylated protein\n",
    "    dAp = kp * S * A + (beta * Ap**n / (K**n + Ap**n)) - kd * Ap\n",
    "    return dAp\n",
    "\n",
    "# Initial condition (initially all protein is unphosphorylated)\n",
    "Ap0 = 0 \n",
    "\n",
    "# Time points for integration\n",
    "t = np.linspace(0, 100, 1000)  \n",
    "\n",
    "#Phase 4: S=0, eliminating stimulus.\n",
    "Ap_solution4 = odeint(activation, Ap_solution3[-1], t, args=(K, At, kd, beta, kp, n, 0))\n",
    "\n",
    "# Plot the results for the third phase only\n",
    "plt.figure(figsize=(6, 4))\n",
    "plt.plot(t, Ap_solution4, label=r'$A_p$')\n",
    "plt.xlabel('time')\n",
    "plt.ylabel(r'$A_p$')\n",
    "plt.title(r'$k_d=0.11$, $S=0.01$')\n",
    "plt.xlim([0, 100])\n",
    "plt.ylim([0, 100])\n",
    "plt.show()"
   ]
  },
  {
   "cell_type": "markdown",
   "metadata": {},
   "source": [
    "---\n",
    "\n",
    "<span style=\"color:red\">Comment your result here</span>\n",
    "\n",
    "Even after removing the stimulus entirely S=0, if the system is in the high-phosphorylation steady state, it may remain stuck in this state. This is because in systems with positive feedback and bistability, the high-phosphorylation state can remain stable even without an external stimulus. The system has memory, once in the high state, it stays there unless forced back.\n",
    "\n",
    "---"
   ]
  },
  {
   "cell_type": "markdown",
   "metadata": {},
   "source": [
    "Now we will manually compute a bifurcation diagram of the system. \n",
    "In order to do this, choose a range of S values from 0 to 1. Start for S=0 considering that the protein is unphosphorylated at the beginning. Then, for each S value do a simulation starting each integration at the previous steady state, and save the new steady state value. Plot the results in a graph where the x axis is S, and the y axis is the steady state reached (from each simulation). Then do the same but in reverse order (starting from high S) and plot the results in a different color."
   ]
  },
  {
   "cell_type": "code",
   "execution_count": 62,
   "metadata": {},
   "outputs": [
    {
     "data": {
      "image/png": "[encoded data removed]",
      "text/plain": [
       "<Figure size 576x432 with 1 Axes>"
      ]
     },
     "metadata": {
      "needs_background": "light"
     },
     "output_type": "display_data"
    }
   ],
   "source": [
    "# Define the differential equation\n",
    "def phosphorylation_dephosphorylation(Ap, t, K, At, kd, beta, kp, n, S):\n",
    "    A = At - Ap  # Unphosphorylated protein\n",
    "    dAp_dt = kp * S * A + (beta * Ap**n / (K**n + Ap**n)) - kd * Ap\n",
    "    return dAp_dt\n",
    "\n",
    "# Function to find steady state\n",
    "def find_steady_state(S, Ap0, t_final=100, num_points=1000):\n",
    "    t = np.linspace(0, t_final, num_points)  # Time array\n",
    "    Ap_solution = odeint(phosphorylation_dephosphorylation, Ap0, t, args=(K, At, kd, beta, kp, n, S))\n",
    "    return Ap_solution[-1]  # Return the last value as the steady state\n",
    "\n",
    "# Range of S values\n",
    "S_values = np.linspace(0, 1, 100)  # S from 0 to 1\n",
    "Ap_steady_increasing = []\n",
    "Ap_steady_decreasing = []\n",
    "\n",
    "# Initial condition (unphosphorylated protein at S=0)\n",
    "Ap0 = 0\n",
    "\n",
    "# Forward pass: Increase S from 0 to 1\n",
    "for S in S_values:\n",
    "    Ap_steady = find_steady_state(S, Ap0)\n",
    "    Ap_steady_increasing.append(Ap_steady)\n",
    "    Ap0 = Ap_steady  # Use the steady state as the initial condition for the next S\n",
    "\n",
    "# Reverse pass: Decrease S from 1 to 0\n",
    "Ap0 = Ap_steady_increasing[-1]  # Start from the final steady state of the increasing phase\n",
    "for S in reversed(S_values):\n",
    "    Ap_steady = find_steady_state(S, Ap0)\n",
    "    Ap_steady_decreasing.append(Ap_steady)\n",
    "    Ap0 = Ap_steady  # Use the steady state as the initial condition for the next S\n",
    "\n",
    "# Plot the bifurcation diagram\n",
    "plt.figure(figsize=(8, 6))\n",
    "plt.plot(S_values, Ap_steady_increasing, label='forward', color='blue')\n",
    "plt.plot(S_values, Ap_steady_decreasing[::-1], label='backward', color='orange')  # Reverse back the decreasing list for plotting\n",
    "plt.xlabel('S')\n",
    "plt.ylabel('Ap*')\n",
    "plt.legend()\n",
    "plt.show()\n"
   ]
  },
  {
   "cell_type": "markdown",
   "metadata": {},
   "source": [
    "---\n",
    "\n",
    "<span style=\"color:red\">Comment your results here.</span>\n",
    "\n",
    "This bifurcation diagram reveals that the system exhibits hysteresis: the steady-state values of Ap​ for increasing S differ from those for decreasing S. In practical terms, this could suggest that once the protein is phosphorylated to a high level, it requires much lower values of S to become unphosphorylated than were needed to phosphorylate it in the first place.\n",
    "\n",
    "---"
   ]
  },
  {
   "cell_type": "markdown",
   "metadata": {},
   "source": [
    "Finally, repeat the analysis above for $k_d=0.13$. First, integrate for fixed values of $S$ (increasing first from $S=0.01$ to $S=1$, and then decreasing back to $S=0.01$ and $S=0$), starting in each case from the previous steady state. Comment on the differences with respect to the case $k_d=0.11$."
   ]
  },
  {
   "cell_type": "code",
   "execution_count": 63,
   "metadata": {},
   "outputs": [
    {
     "data": {
      "image/png": "[encoded data removed]",
      "text/plain": [
       "<Figure size 432x288 with 1 Axes>"
      ]
     },
     "metadata": {
      "needs_background": "light"
     },
     "output_type": "display_data"
    }
   ],
   "source": [
    "def activation(Ap, t, K, At, kd, beta, kp, n, S):\n",
    "    A = At - Ap  # Unphosphorylated protein\n",
    "    dAp = kp * S * A + (beta * Ap**n / (K**n + Ap**n)) - kd * Ap\n",
    "    return dAp\n",
    "\n",
    "# kd = 0.13 case and S = 0.01\n",
    "kd = 0.13  # Dephosphorylation rate constant\n",
    "S = 0.01   # Stimulus value\n",
    "\n",
    "# Initial condition (initially all protein is unphosphorylated)\n",
    "Ap0 = 0\n",
    "\n",
    "# Time points for integration (longer time to reach steady state)\n",
    "t = np.linspace(0, 100, 1000)  # Time from 0 to 1000 in 10000 steps\n",
    "\n",
    "# Solve the ODE for kd = 0.13 and S = 0.01\n",
    "Ap_solution = odeint(activation, Ap0, t, args=(K, At, kd, beta, kp, n, S))\n",
    "\n",
    "# Plot the solution for kd = 0.13 and S = 0.01\n",
    "plt.plot(t, Ap_solution, label=f'kd={kd}, S={S}')\n",
    "plt.xlabel('time')\n",
    "plt.ylabel('Ap')\n",
    "plt.ylim(0, 80)  # Ensuring the y-axis goes from 0 to 80\n",
    "plt.yticks(np.arange(0, 101, 20))\n",
    "plt.title(f'kd = {kd}, S={S}')\n",
    "plt.show()"
   ]
  },
  {
   "cell_type": "code",
   "execution_count": 64,
   "metadata": {},
   "outputs": [
    {
     "data": {
      "image/png": "[encoded data removed]",
      "text/plain": [
       "<Figure size 432x288 with 1 Axes>"
      ]
     },
     "metadata": {
      "needs_background": "light"
     },
     "output_type": "display_data"
    }
   ],
   "source": [
    "S=1\n",
    "\n",
    "def activation(Ap, t, K, At, kd, beta, kp, n, S):\n",
    "    A = At - Ap  # Unphosphorylated protein\n",
    "    dAp = kp * S * A + (beta * Ap**n / (K**n + Ap**n)) - kd * Ap\n",
    "    return dAp\n",
    "\n",
    "# Initial condition (initially all protein is unphosphorylated)\n",
    "Ap0 = 0 \n",
    "\n",
    "# Time points for integration\n",
    "t = np.linspace(0, 100, 1000)  # Time from 0 to 100 in 1000 steps\n",
    "\n",
    "# Solve the ODE\n",
    "Ap_solution = odeint(activation, Ap0, t, args=(K, At, kd, beta, kp, n, S))\n",
    "\n",
    "# Plot the results\n",
    "plt.plot(t, Ap_solution)\n",
    "plt.xlabel('time')\n",
    "plt.ylabel('Ap')\n",
    "plt.title('Kd=0.13, S=1')\n",
    "plt.ylim(0, 100)\n",
    "plt.show()"
   ]
  },
  {
   "cell_type": "code",
   "execution_count": 65,
   "metadata": {},
   "outputs": [
    {
     "data": {
      "image/png": "[encoded data removed]",
      "text/plain": [
       "<Figure size 432x288 with 1 Axes>"
      ]
     },
     "metadata": {
      "needs_background": "light"
     },
     "output_type": "display_data"
    }
   ],
   "source": [
    "def activation(Ap, t, K, At, kd, beta, kp, n, S):\n",
    "    A = At - Ap  # Unphosphorylated protein\n",
    "    dAp = kp * S * A + (beta * Ap**n / (K**n + Ap**n)) - kd * Ap\n",
    "    return dAp\n",
    "\n",
    "# Initial condition (initially all protein is unphosphorylated)\n",
    "Ap0 = 0 \n",
    "\n",
    "# Time points for integration\n",
    "t = np.linspace(0, 100, 1000)  \n",
    "\n",
    "#Pashe 1\n",
    "S1 = 0.01\n",
    "Ap_solution1 = odeint(activation, Ap0, t, args=(K, At, kd, beta, kp, n, S1))\n",
    "\n",
    "# Phase 2: Sudden large stimulus (S = 1)\n",
    "S2 = 1\n",
    "Ap_solution2 = odeint(activation, Ap_solution1[-1], t, args=(K, At, kd, beta, kp, n, S2))\n",
    "\n",
    "\n",
    "# Phase 3: Return to low stimulus (S = 0.01) after a high stimulus phase\n",
    "Ap_solution3 = odeint(activation, Ap_solution2[-1], t, args=(K, At, kd, beta, kp, n, 0.01))\n",
    "\n",
    "# Plot the results for the third phase only\n",
    "plt.figure(figsize=(6, 4))\n",
    "plt.plot(t, Ap_solution3, label=r'$A_p$')\n",
    "plt.xlabel('time')\n",
    "plt.ylabel(r'$A_p$')\n",
    "plt.title(r'$k_d=0.13$, $S=0.01$')\n",
    "plt.xlim([0, 100])\n",
    "plt.ylim([0, 100])\n",
    "plt.show()"
   ]
  },
  {
   "cell_type": "code",
   "execution_count": 66,
   "metadata": {},
   "outputs": [
    {
     "data": {
      "image/png": "[encoded data removed]",
      "text/plain": [
       "<Figure size 432x288 with 1 Axes>"
      ]
     },
     "metadata": {
      "needs_background": "light"
     },
     "output_type": "display_data"
    }
   ],
   "source": [
    "S=0\n",
    "def activation(Ap, t, K, At, kd, beta, kp, n, S):\n",
    "    A = At - Ap  # Unphosphorylated protein\n",
    "    dAp = kp * S * A + (beta * Ap**n / (K**n + Ap**n)) - kd * Ap\n",
    "    return dAp\n",
    "\n",
    "# Initial condition (initially all protein is unphosphorylated)\n",
    "Ap0 = 0 \n",
    "\n",
    "# Time points for integration\n",
    "t = np.linspace(0, 100, 1000)  \n",
    "\n",
    "#Phase 4: S=0, eliminating stimulus.\n",
    "Ap_solution4 = odeint(activation, Ap_solution3[-1], t, args=(K, At, kd, beta, kp, n, 0))\n",
    "\n",
    "# Plot the results for the third phase only\n",
    "plt.figure(figsize=(6, 4))\n",
    "plt.plot(t, Ap_solution4, label=r'$A_p$')\n",
    "plt.xlabel('time')\n",
    "plt.ylabel(r'$A_p$')\n",
    "plt.title(r'$k_d=0.13$, $S=0$')\n",
    "plt.xlim([0, 100])\n",
    "plt.ylim([0, 100])\n",
    "plt.show()"
   ]
  },
  {
   "cell_type": "markdown",
   "metadata": {},
   "source": [
    "---\n",
    "\n",
    "<span style=\"color:red\">Comment your result here</span>\n",
    "\n",
    "The first plot, with S=0.01 and Kd=0.13, has a very small S which leads to a slow buildup of Ap. Ap remains very low throughot The simulation time, showing minimal dynamics. \n",
    "\n",
    "The second plot, with S=1 and Kd=0.13, as S increases, Ap has a rapid rise reaching steaty-state new 100 after some time. here, the system's response is much fatser and more significant compared to the sustym with S=0.01. Then, this tells us that increasing S, the system activates more strongly. \n",
    "\n",
    "In the third plot, where after reaching steady state for S=1 and going back to S=0.01. In response, Ap gradually decreases over time, eventually approaching zero. This shows that as S is being reduced, Ap decreases too. \n",
    "\n",
    "Finally, the fourth plot, with S=0, Ap stays with a very low value throughout the time, like in the first plot. The system remains in an inactive state as no input signal is present (no accumulation/activity of Ap)\n",
    "\n",
    "---"
   ]
  },
  {
   "cell_type": "markdown",
   "metadata": {},
   "source": [
    "Finally, calculate numerically the bifurcation diagram for $k_d=0.13$ and compare it again with the case $k_d=0.11$."
   ]
  },
  {
   "cell_type": "code",
   "execution_count": 67,
   "metadata": {
    "scrolled": true
   },
   "outputs": [
    {
     "data": {
      "image/png": "[encoded data removed]",
      "text/plain": [
       "<Figure size 432x288 with 1 Axes>"
      ]
     },
     "metadata": {
      "needs_background": "light"
     },
     "output_type": "display_data"
    }
   ],
   "source": [
    "kd = 0.13 \n",
    "\n",
    "# Define the differential equation\n",
    "def phosphorylation_dephosphorylation(Ap, t, K, At, kd, beta, kp, n, S):\n",
    "    A = At - Ap  # Unphosphorylated protein\n",
    "    dAp_dt = kp * S * A + (beta * Ap**n / (K**n + Ap**n)) - kd * Ap\n",
    "    return dAp_dt\n",
    "\n",
    "# Function to find steady state\n",
    "def find_steady_state(S, Ap0, t_final=100, num_points=1000):\n",
    "    t = np.linspace(0, t_final, num_points)  # Time array\n",
    "    Ap_solution = odeint(phosphorylation_dephosphorylation, Ap0, t, args=(K, At, kd, beta, kp, n, S))\n",
    "    return Ap_solution[-1]  # Return the last value as the steady state\n",
    "\n",
    "# Range of S values\n",
    "S_values = np.linspace(0, 1, 100)  # S from 0 to 1\n",
    "Ap_steady_increasing = []\n",
    "Ap_steady_decreasing = []\n",
    "\n",
    "# Initial condition (unphosphorylated protein at S=0)\n",
    "Ap0 = 0\n",
    "\n",
    "# Forward pass: Increase S from 0 to 1\n",
    "for S in S_values:\n",
    "    Ap_steady = find_steady_state(S, Ap0)\n",
    "    Ap_steady_increasing.append(Ap_steady)\n",
    "    Ap0 = Ap_steady  # Use the steady state as the initial condition for the next S\n",
    "\n",
    "# Reverse pass: Decrease S from 1 to 0\n",
    "Ap0 = Ap_steady_increasing[-1]  # Start from the final steady state of the increasing phase\n",
    "for S in reversed(S_values):\n",
    "    Ap_steady = find_steady_state(S, Ap0)\n",
    "    Ap_steady_decreasing.append(Ap_steady)\n",
    "    Ap0 = Ap_steady  # Use the steady state as the initial condition for the next S\n",
    "\n",
    "# Plot the bifurcation diagram\n",
    "plt.figure()\n",
    "plt.plot(S_values, Ap_steady_increasing, label='forward', color='blue')\n",
    "plt.plot(S_values, Ap_steady_decreasing[::-1], label='backward', color='orange')  # Reverse back the decreasing list for plotting\n",
    "plt.xlabel('S')\n",
    "plt.ylabel('Ap*')\n",
    "plt.legend()\n",
    "plt.show()"
   ]
  },
  {
   "cell_type": "markdown",
   "metadata": {},
   "source": [
    "---\n",
    "\n",
    "<span style=\"color:red\">Comment your result here</span>\n",
    "\n",
    "This diagram is a clear representation of a system with strong bistability and hysteresis, where the rate of dephosphorylation (kd​) significantly affects the bifurcation point and the extent of hysteresis. Increasing kd​ seems to push the transition points further apart.\n",
    "\n",
    "---"
   ]
  },
  {
   "cell_type": "code",
   "execution_count": null,
   "metadata": {},
   "outputs": [],
   "source": []
  }
 ],
 "metadata": {
  "hide_input": false,
  "kernelspec": {
   "display_name": "Python 3 (ipykernel)",
   "language": "python",
   "name": "python3"
  },
  "language_info": {
   "codemirror_mode": {
    "name": "ipython",
    "version": 3
   },
   "file_extension": ".py",
   "mimetype": "text/x-python",
   "name": "python",
   "nbconvert_exporter": "python",
   "pygments_lexer": "ipython3",
   "version": "3.10.12"
  },
  "varInspector": {
   "cols": {
    "lenName": 16,
    "lenType": 16,
    "lenVar": 40
   },
   "kernels_config": {
    "python": {
     "delete_cmd_postfix": "",
     "delete_cmd_prefix": "del ",
     "library": "var_list.py",
     "varRefreshCmd": "print(var_dic_list())"
    },
    "r": {
     "delete_cmd_postfix": ") ",
     "delete_cmd_prefix": "rm(",
     "library": "var_list.r",
     "varRefreshCmd": "cat(var_dic_list()) "
    }
   },
   "types_to_exclude": [
    "module",
    "function",
    "builtin_function_or_method",
    "instance",
    "_Feature"
   ],
   "window_display": false
  }
 },
 "nbformat": 4,
 "nbformat_minor": 1
}
